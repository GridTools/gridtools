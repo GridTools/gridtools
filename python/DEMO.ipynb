{
 "metadata": {
  "celltoolbar": "Slideshow",
  "name": "",
  "signature": "sha256:0eef35ed4fd4a89137bf7361bbdcb2d280957911c32473f26ca99aa237cf54ef"
 },
 "nbformat": 3,
 "nbformat_minor": 0,
 "worksheets": [
  {
   "cells": [
    {
     "cell_type": "code",
     "collapsed": false,
     "input": [
      "# \n",
      "# notebook setup\n",
      "#\n",
      "try:\n",
      "    %matplotlib qt\n",
      "    import matplotlib.pyplot as plt\n",
      "except Exception:\n",
      "    print (\"### WARNING: plotting not available\")\n",
      "else:\n",
      "    import numpy as np\n",
      "    print (\"Plotting enabled\")"
     ],
     "language": "python",
     "metadata": {
      "slideshow": {
       "slide_type": "skip"
      }
     },
     "outputs": [
      {
       "output_type": "stream",
       "stream": "stdout",
       "text": [
        "Plotting enabled\n"
       ]
      }
     ],
     "prompt_number": 1
    },
    {
     "cell_type": "markdown",
     "metadata": {
      "slideshow": {
       "slide_type": "slide"
      }
     },
     "source": [
      "# ::: Gridtools4Py :::\n",
      "## A Python interface for Gridtools"
     ]
    },
    {
     "cell_type": "markdown",
     "metadata": {
      "slideshow": {
       "slide_type": "slide"
      }
     },
     "source": [
      "\n",
      "### A copy stencil implemented in Python\n"
     ]
    },
    {
     "cell_type": "code",
     "collapsed": false,
     "input": [
      "from gridtools.stencil import MultiStageStencil\n",
      "\n",
      "\n",
      "class CopyStencil (MultiStageStencil):\n",
      "    \"\"\"\n",
      "    Definition of a simple copy stencil.-\n",
      "    \"\"\"\n",
      "    def kernel (self, out_data, in_data):\n",
      "        \"\"\"\n",
      "        The entry stage of this stencil.-\n",
      "        \"\"\"\n",
      "        #\n",
      "        # iterate over the interior data points\n",
      "        #\n",
      "        for p in self.get_interior_points (out_data):\n",
      "            out_data[p] = in_data[p]\n"
     ],
     "language": "python",
     "metadata": {
      "slideshow": {
       "slide_type": "-"
      }
     },
     "outputs": [],
     "prompt_number": 2
    },
    {
     "cell_type": "markdown",
     "metadata": {
      "slideshow": {
       "slide_type": "slide"
      }
     },
     "source": [
      "### Use NumPy arrays as data fields"
     ]
    },
    {
     "cell_type": "code",
     "collapsed": false,
     "input": [
      "domain = (64, 64, 32)\n",
      "\n",
      "source = np.random.rand (*domain)   # data field of size 'domain'\n",
      "                                    # filled with random numbers\n",
      "target = np.zeros (domain)          # data field of size 'domain'\n",
      "                                    # filled with zeros"
     ],
     "language": "python",
     "metadata": {
      "slideshow": {
       "slide_type": "-"
      }
     },
     "outputs": [],
     "prompt_number": 3
    },
    {
     "cell_type": "markdown",
     "metadata": {
      "slideshow": {
       "slide_type": "slide"
      }
     },
     "source": [
      "### Run the stencil in Python mode"
     ]
    },
    {
     "cell_type": "code",
     "collapsed": false,
     "input": [
      "copy         = CopyStencil ( )      # instance of the stencil defined above\n",
      "copy.backend = \"python\"             # will run in Python only mode\n",
      "\n",
      "%timeit -n1 -p3 -r 10 copy.run (in_data=source, out_data=target) # execute it"
     ],
     "language": "python",
     "metadata": {
      "slideshow": {
       "slide_type": "-"
      }
     },
     "outputs": [
      {
       "output_type": "stream",
       "stream": "stdout",
       "text": [
        "1 loops, best of 10: 67.6 ms per loop\n"
       ]
      }
     ],
     "prompt_number": 4
    },
    {
     "cell_type": "markdown",
     "metadata": {
      "slideshow": {
       "slide_type": "-"
      }
     },
     "source": [
      "### Run the *same* stencil in C++ mode"
     ]
    },
    {
     "cell_type": "code",
     "collapsed": false,
     "input": [
      "copy.backend = \"c++\"        # will run using Gridtools in C++\n",
      "\n",
      "%timeit -n1 -p3 -r 10 copy.run (in_data=source, out_data=target) # execute it"
     ],
     "language": "python",
     "metadata": {
      "slideshow": {
       "slide_type": "-"
      }
     },
     "outputs": [
      {
       "output_type": "stream",
       "stream": "stdout",
       "text": [
        "1 loops, best of 10: 123 \u00b5s per loop\n"
       ]
      }
     ],
     "prompt_number": 5
    },
    {
     "cell_type": "markdown",
     "metadata": {
      "slideshow": {
       "slide_type": "slide"
      }
     },
     "source": [
      "### The code has been translated, compiled and dynamically linked into the current session"
     ]
    },
    {
     "cell_type": "code",
     "collapsed": false,
     "input": [
      "copy.compiler.lib_handle"
     ],
     "language": "python",
     "metadata": {
      "slideshow": {
       "slide_type": "-"
      }
     },
     "outputs": [
      {
       "metadata": {},
       "output_type": "pyout",
       "prompt_number": 6,
       "text": [
        "<CDLL '/tmp/__gridtools_wsd2mx85/libgridtools4py.0001.so', handle 210bf00 at 7f7c94c467f0>"
       ]
      }
     ],
     "prompt_number": 6
    },
    {
     "cell_type": "markdown",
     "metadata": {
      "slideshow": {
       "slide_type": "slide"
      }
     },
     "source": [
      "### Example: the Laplace operator"
     ]
    },
    {
     "cell_type": "code",
     "collapsed": false,
     "input": [
      "class Laplace (MultiStageStencil):\n",
      "    def kernel (self, out_data, in_data):\n",
      "        \"\"\"\n",
      "        The user must always define a 'kernel' function.-\n",
      "        \"\"\"\n",
      "        for p in self.get_interior_points (out_data):\n",
      "            out_data[p] = -4.0 * in_data[p] - (\n",
      "                          in_data[p + (1,0,0)] + in_data[p + (0,1,0)] + \n",
      "                          in_data[p + (-1,0,0)] + in_data[p + (0,-1,0)])"
     ],
     "language": "python",
     "metadata": {
      "slideshow": {
       "slide_type": "-"
      }
     },
     "outputs": [],
     "prompt_number": 7
    },
    {
     "cell_type": "markdown",
     "metadata": {
      "slideshow": {
       "slide_type": "slide"
      }
     },
     "source": [
      "### Run it in Python, C++ and CUDA modes"
     ]
    },
    {
     "cell_type": "code",
     "collapsed": false,
     "input": [
      "lap = Laplace ( )\n",
      "lap.set_halo        ( (1, 1, 1, 1) )\n",
      "lap.set_k_direction (\"forward\")\n",
      "\n",
      "lap.backend = \"python\"\n",
      "%timeit -n 1 -p 3 -r 5 lap.run (in_data=source, out_data=target)\n",
      "\n",
      "#lap.backend = \"cuda\"\n",
      "#%timeit -n 1 -p 3 -r 5 lap.run (in_data=source, out_data=target)\n",
      "\n",
      "lap.backend = \"c++\"\n",
      "%timeit -n 1 -p 3 -r 5 lap.run (in_data=source, out_data=target)"
     ],
     "language": "python",
     "metadata": {
      "slideshow": {
       "slide_type": "-"
      }
     },
     "outputs": [
      {
       "output_type": "stream",
       "stream": "stdout",
       "text": [
        "1 loops, best of 5: 620 ms per loop\n",
        "1 loops, best of 5: 259 \u00b5s per loop"
       ]
      },
      {
       "output_type": "stream",
       "stream": "stdout",
       "text": [
        "\n"
       ]
      }
     ],
     "prompt_number": 8
    },
    {
     "cell_type": "markdown",
     "metadata": {
      "slideshow": {
       "slide_type": "slide"
      }
     },
     "source": [
      "### Plotting"
     ]
    },
    {
     "cell_type": "code",
     "collapsed": false,
     "input": [
      "from tests.test_stencils import HorizontalDiffusion\n",
      "\n",
      "#\n",
      "# initialize the input data\n",
      "#\n",
      "for i in range (domain[0]):\n",
      "    for j in range (domain[1]):\n",
      "        for k in range (domain[2]):\n",
      "            source[i,j,k] = i**5 + j\n",
      "wgt    = np.ones (domain)\n",
      "target = np.ones (domain)\n",
      "\n",
      "hd = HorizontalDiffusion (domain)\n",
      "hd.set_halo ( (2,2,2,2) )\n",
      "hd.run (out_data=target,\n",
      "        in_wgt=wgt,\n",
      "        in_data=source)"
     ],
     "language": "python",
     "metadata": {
      "slideshow": {
       "slide_type": "-"
      }
     },
     "outputs": [],
     "prompt_number": 9
    },
    {
     "cell_type": "code",
     "collapsed": false,
     "input": [
      "hd.plot_3d (target[2:-2,2:-2,0])\n",
      "hd.plot_3d (source[:,:,0])"
     ],
     "language": "python",
     "metadata": {
      "slideshow": {
       "slide_type": "-"
      }
     },
     "outputs": [
      {
       "metadata": {},
       "output_type": "pyout",
       "prompt_number": 10,
       "text": [
        "<mpl_toolkits.mplot3d.art3d.Line3DCollection at 0x7f8f9ce34240>"
       ]
      }
     ],
     "prompt_number": 10
    },
    {
     "cell_type": "markdown",
     "metadata": {
      "slideshow": {
       "slide_type": "slide"
      }
     },
     "source": [
      "## Stage execution path and data-dependency graph"
     ]
    },
    {
     "cell_type": "code",
     "collapsed": false,
     "input": [
      "hd.plot_data_dependency (hd.scope.stage_execution)"
     ],
     "language": "python",
     "metadata": {},
     "outputs": [
      {
       "output_type": "stream",
       "stream": "stderr",
       "text": [
        "/home/docker/venv/lib/python3.4/site-packages/matplotlib/collections.py:590: FutureWarning: elementwise comparison failed; returning scalar instead, but in the future will perform elementwise comparison\n",
        "  if self._edgecolors == str('face'):\n"
       ]
      }
     ],
     "prompt_number": 11
    },
    {
     "cell_type": "code",
     "collapsed": false,
     "input": [
      "hd.plot_data_dependency ( )"
     ],
     "language": "python",
     "metadata": {},
     "outputs": [],
     "prompt_number": 12
    },
    {
     "cell_type": "markdown",
     "metadata": {
      "slideshow": {
       "slide_type": "slide"
      }
     },
     "source": [
      "## Animations"
     ]
    },
    {
     "cell_type": "code",
     "collapsed": false,
     "input": [
      "from tests.test_sw import SWTest\n",
      "\n",
      "anim = SWTest ( )\n",
      "anim.setUp ( )\n",
      "anim.test_animation (50000)"
     ],
     "language": "python",
     "metadata": {
      "slideshow": {
       "slide_type": "-"
      }
     },
     "outputs": [],
     "prompt_number": 20
    },
    {
     "cell_type": "markdown",
     "metadata": {},
     "source": [
      "## : Game of Life :"
     ]
    },
    {
     "cell_type": "code",
     "collapsed": false,
     "input": [
      "class GameOfLife (MultiStageStencil):\n",
      "    def __init__ (self, domain):\n",
      "        super ( ).__init__ ( )\n",
      "        self.counter = np.zeros (domain)\n",
      "        \n",
      "    def kernel (self, out_X):\n",
      "        for p in self.get_interior_points (out_X):\n",
      "            self.counter[p] = out_X[p + (1,0,0)]  + out_X[p + (1,1,0)]   + \\\n",
      "                              out_X[p + (0,1,0)]  + out_X[p + (-1,1,0)]  + \\\n",
      "                              out_X[p + (-1,0,0)] + out_X[p + (-1,-1,0)] + \\\n",
      "                              out_X[p + (0,-1,0)] + out_X[p + (1,-1,0)]\n",
      "            if out_X[p] == 1.0 and self.counter[p] == 2:\n",
      "                out_X[p] = 0.0\n",
      "            elif self.counter[p] == 3:\n",
      "                out_X[p] = 1.0\n",
      "            else:\n",
      "                out_X[p] = 0.0"
     ],
     "language": "python",
     "metadata": {},
     "outputs": [],
     "prompt_number": 10
    },
    {
     "cell_type": "code",
     "collapsed": false,
     "input": [
      "X = np.array (np.random.randint (2,\n",
      "                                 size=X.shape),\n",
      "              dtype=np.float64)\n",
      "gol = GameOfLife (X.shape)\n",
      "gol.backend = 'c++'\n",
      "gol.set_halo ( (1,1,1,1) )\n",
      "gol.run      (out_X = X)"
     ],
     "language": "python",
     "metadata": {},
     "outputs": [],
     "prompt_number": 12
    },
    {
     "cell_type": "markdown",
     "metadata": {
      "slideshow": {
       "slide_type": "slide"
      }
     },
     "source": [
      "### Create a Matplotlib 2D animation"
     ]
    },
    {
     "cell_type": "code",
     "collapsed": false,
     "input": [
      "import matplotlib.animation as animation\n",
      "\n",
      "fig = plt.figure ( )\n",
      "im  = plt.imshow (X[:,:,0])\n",
      "\n",
      "def anim_init ( ):\n",
      "    im.set_data (X[:,:,0])\n",
      "    return [im]\n",
      "\n",
      "def anim_frame (i):\n",
      "    gol.run (out_X = X)\n",
      "    im.set_data (X[:,:,0])\n",
      "    return [im]"
     ],
     "language": "python",
     "metadata": {},
     "outputs": [],
     "prompt_number": 13
    },
    {
     "cell_type": "code",
     "collapsed": false,
     "input": [
      "anim = animation.FuncAnimation (fig,\n",
      "                                anim_frame,\n",
      "                                init_func=anim_init,\n",
      "                                frames=200,\n",
      "                                interval=1000,\n",
      "                                blit=True)"
     ],
     "language": "python",
     "metadata": {},
     "outputs": [],
     "prompt_number": 14
    },
    {
     "cell_type": "markdown",
     "metadata": {
      "slideshow": {
       "slide_type": "slide"
      }
     },
     "source": [
      "### Performance comparison (pure C++ <--> Python with C++ backend) \n",
      "\n",
      "```\n",
      "* Copy                 11342 FPS <--> 6710 FPS (~39% overhead)\n",
      "* Laplace               4276 FPS <--> 3732 FPS (~13% overhead)\n",
      "* Horizontal diffusion   633 FPS <-->  550 FPS (~13% overhead)\n",
      "* Shallow water         2710 FPS <--> 2525 FPS (~7% overhead)\n",
      "```\n",
      "\n",
      "#### The constant overhead is on the Python side due to library and parameter handling"
     ]
    },
    {
     "cell_type": "markdown",
     "metadata": {
      "slideshow": {
       "slide_type": "slide"
      }
     },
     "source": [
      "## : Status update :"
     ]
    },
    {
     "cell_type": "markdown",
     "metadata": {
      "slideshow": {
       "slide_type": "-"
      }
     },
     "source": [
      "### Done as of today\n",
      "\n",
      "* several stencils, including game of life, working on CPU/GPU;\n",
      "* automatic detection of read-only fields based on source analysis;\n",
      "* automatic construction and display of execution and data dependency graphs by means of source analysis;\n",
      "* stencil definition containing \"independent\" stages, which may be potentially executed in parallel;\n",
      "* stage definition as a function, which avoids code replication and enables per-stage user settings;\n",
      "* integrated 3D plotting;\n",
      "* integrated 3D animations using OpenGL;\n",
      "* tutorial IPython Notebook;\n",
      "* integration with CMake and the C++ testing infrastructure (Jenkins);\n",
      "* integration with containers (Docker);\n",
      "* full C++11 support."
     ]
    },
    {
     "cell_type": "markdown",
     "metadata": {
      "slideshow": {
       "slide_type": "slide"
      }
     },
     "source": [
      "### In progress as of today\n",
      "\n",
      "* connect lifetime of objects in Python to C++, e.g., tie finalize( ) with the garbage collector;\n",
      "* implement common boundary conditions constructs;\n",
      "* support for definition of local variables;\n",
      "* support for a different offset-indexing syntax (i,j,k);\n"
     ]
    },
    {
     "cell_type": "code",
     "collapsed": false,
     "input": [],
     "language": "python",
     "metadata": {},
     "outputs": []
    }
   ],
   "metadata": {}
  }
 ]
}