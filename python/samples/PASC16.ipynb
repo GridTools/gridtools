{
 "metadata": {
  "celltoolbar": "Slideshow",
  "name": "",
  "signature": "sha256:e0f98f99b2c173eb9048599918f00a97890cc0911031b5aefdc85694b6eaf75d"
 },
 "nbformat": 3,
 "nbformat_minor": 0,
 "worksheets": [
  {
   "cells": [
    {
     "cell_type": "code",
     "collapsed": false,
     "input": [
      "# \n",
      "# notebook setup\n",
      "#\n",
      "try:\n",
      "    %matplotlib nbagg\n",
      "    import matplotlib.pyplot as plt\n",
      "except Exception:\n",
      "    print (\"### WARNING: plotting not available\")\n",
      "else:\n",
      "    import numpy as np\n",
      "    print (\"Plotting enabled\")"
     ],
     "language": "python",
     "metadata": {
      "slideshow": {
       "slide_type": "skip"
      }
     },
     "outputs": [
      {
       "output_type": "stream",
       "stream": "stdout",
       "text": [
        "Plotting enabled\n"
       ]
      }
     ],
     "prompt_number": 1
    },
    {
     "cell_type": "markdown",
     "metadata": {
      "slideshow": {
       "slide_type": "slide"
      }
     },
     "source": [
      "# ::: Gridtools4Py :::\n",
      "## A Python interface for Gridtools"
     ]
    },
    {
     "cell_type": "markdown",
     "metadata": {
      "slideshow": {
       "slide_type": "slide"
      }
     },
     "source": [
      "### Game of Life in MATLAB and Python"
     ]
    },
    {
     "cell_type": "code",
     "collapsed": false,
     "input": [
      "from gridtools.stencil import Stencil\n",
      "\n",
      "\n",
      "@Stencil.kernel\n",
      "def game_of_life (out_X, in_X):\n",
      "    for p in Stencil.get_interior_points (out_X):\n",
      "        Y = in_X[p + (1,0,0)]  + in_X[p + (1,1,0)]   + \\\n",
      "            in_X[p + (0,1,0)]  + in_X[p + (-1,1,0)]  + \\\n",
      "            in_X[p + (-1,0,0)] + in_X[p + (-1,-1,0)] + \\\n",
      "            in_X[p + (0,-1,0)] + in_X[p + (1,-1,0)]\n",
      "\n",
      "        out_X[p] = (in_X[p] and (Y == 2)) or (Y == 3)\n",
      "\n",
      "\n",
      "# Generate a random initial population\n",
      "domain = (50, 50, 4)\n",
      "in_X = np.zeros(domain)\n",
      "in_X[19:33,19:33,:] = np.random.rand(14,14,4) > .75\n",
      "out_X = np.copy(in_X)\n",
      "\n",
      "# Set stencil options\n",
      "Stencil.set_halo( (1,1,1,1) )"
     ],
     "language": "python",
     "metadata": {},
     "outputs": [],
     "prompt_number": 2
    },
    {
     "cell_type": "markdown",
     "metadata": {
      "slideshow": {
       "slide_type": "slide"
      }
     },
     "source": [
      "### Run the stencil in Python mode"
     ]
    },
    {
     "cell_type": "code",
     "collapsed": false,
     "input": [
      "Stencil.set_backend (\"python\")\n",
      "\n",
      "%timeit -n1 -p3 -r 10 game_of_life (out_X=out_X, in_X=in_X) # execute it"
     ],
     "language": "python",
     "metadata": {
      "slideshow": {
       "slide_type": "-"
      }
     },
     "outputs": [
      {
       "output_type": "stream",
       "stream": "stdout",
       "text": [
        "1 loops, best of 10: 99.8 ms per loop\n"
       ]
      }
     ],
     "prompt_number": 3
    },
    {
     "cell_type": "markdown",
     "metadata": {
      "slideshow": {
       "slide_type": "-"
      }
     },
     "source": [
      "### Run the *same* stencil in C++ mode"
     ]
    },
    {
     "cell_type": "code",
     "collapsed": false,
     "input": [
      "Stencil.set_backend (\"c++\")                   # will run using GridTools\n",
      "\n",
      "%timeit -n1 -p3 -r 10 game_of_life (out_X=out_X, in_X=in_X) # execute it"
     ],
     "language": "python",
     "metadata": {
      "slideshow": {
       "slide_type": "-"
      }
     },
     "outputs": [
      {
       "output_type": "stream",
       "stream": "stdout",
       "text": [
        "1 loops, best of 10: 84.3 \u00b5s per loop\n"
       ]
      }
     ],
     "prompt_number": 4
    },
    {
     "cell_type": "markdown",
     "metadata": {
      "slideshow": {
       "slide_type": "slide"
      }
     },
     "source": [
      "## What just happened?"
     ]
    },
    {
     "cell_type": "markdown",
     "metadata": {
      "slideshow": {
       "slide_type": "slide"
      }
     },
     "source": [
      "### The code has been translated, compiled and dynamically linked into *this* notebook"
     ]
    },
    {
     "cell_type": "code",
     "collapsed": false,
     "input": [
      "Stencil.compiler.lib_handle"
     ],
     "language": "python",
     "metadata": {
      "slideshow": {
       "slide_type": "-"
      }
     },
     "outputs": [
      {
       "metadata": {},
       "output_type": "pyout",
       "prompt_number": 5,
       "text": [
        "<CDLL '/tmp/__gridtools_h6q2mrp6/libgridtools4py.0001.so', handle 2dfc5a0 at 7f7ebd695208>"
       ]
      }
     ],
     "prompt_number": 5
    },
    {
     "cell_type": "markdown",
     "metadata": {
      "slideshow": {
       "slide_type": "slide"
      }
     },
     "source": [
      "### OOP example: the Laplace operator"
     ]
    },
    {
     "cell_type": "code",
     "collapsed": false,
     "input": [
      "from gridtools.stencil import MultiStageStencil\n",
      "\n",
      "class Laplace (MultiStageStencil):\n",
      "    def __init__ (self):\n",
      "        super ( ).__init__ ( )\n",
      "        \n",
      "    @Stencil.kernel\n",
      "    def kernel (self, out_data, in_data):\n",
      "        for p in self.get_interior_points (out_data):\n",
      "            out_data[p] = -4.0 * in_data[p] - (\n",
      "                          in_data[p + (1,0,0)]  + in_data[p + (0,1,0)] + \n",
      "                          in_data[p + (-1,0,0)] + in_data[p + (0,-1,0)])"
     ],
     "language": "python",
     "metadata": {
      "slideshow": {
       "slide_type": "-"
      }
     },
     "outputs": [],
     "prompt_number": 6
    },
    {
     "cell_type": "markdown",
     "metadata": {
      "slideshow": {
       "slide_type": "slide"
      }
     },
     "source": [
      "### Use NumPy arrays as data fields"
     ]
    },
    {
     "cell_type": "code",
     "collapsed": false,
     "input": [
      "domain = (64, 64, 32)\n",
      "\n",
      "source = np.random.rand (*domain)   # data field of size 'domain'\n",
      "                                    # filled with random numbers\n",
      "target = np.zeros (domain)          # data field of size 'domain'\n",
      "                                    # filled with zeros"
     ],
     "language": "python",
     "metadata": {
      "slideshow": {
       "slide_type": "-"
      }
     },
     "outputs": [],
     "prompt_number": 7
    },
    {
     "cell_type": "markdown",
     "metadata": {
      "slideshow": {
       "slide_type": "slide"
      }
     },
     "source": [
      "### Run it in Python, C++ and CUDA modes"
     ]
    },
    {
     "cell_type": "code",
     "collapsed": false,
     "input": [
      "lap = Laplace ( )\n",
      "lap.set_halo        ( (1, 1, 1, 1) )\n",
      "lap.set_k_direction (\"forward\")\n",
      "\n",
      "lap.set_backend ('python')\n",
      "%timeit -n 1 -p 3 -r 5 lap.run (in_data=source, out_data=target)\n",
      "\n",
      "#lap.backend = \"cuda\"\n",
      "#%timeit -n 1 -p 3 -r 5 lap.run (in_data=source, out_data=target)\n",
      "\n",
      "lap.set_backend ('c++')\n",
      "%timeit -n 1 -p 3 -r 5 lap.run (in_data=source, out_data=target)"
     ],
     "language": "python",
     "metadata": {
      "slideshow": {
       "slide_type": "-"
      }
     },
     "outputs": [
      {
       "output_type": "stream",
       "stream": "stdout",
       "text": [
        "1 loops, best of 5: 661 ms per loop\n",
        "1 loops, best of 5: 187 \u00b5s per loop"
       ]
      },
      {
       "output_type": "stream",
       "stream": "stdout",
       "text": [
        "\n"
       ]
      }
     ],
     "prompt_number": 8
    },
    {
     "cell_type": "markdown",
     "metadata": {
      "slideshow": {
       "slide_type": "slide"
      }
     },
     "source": [
      "### Matplotlib integration: creating graphs"
     ]
    },
    {
     "cell_type": "code",
     "collapsed": false,
     "input": [
      "from tests.test_stencils import HorizontalDiffusion\n",
      "\n",
      "#\n",
      "# initialize the input data\n",
      "#\n",
      "for i in range (domain[0]):\n",
      "    for j in range (domain[1]):\n",
      "        for k in range (domain[2]):\n",
      "            source[i,j,k] = i**5 + j\n",
      "wgt    = np.ones (domain)\n",
      "target = np.ones (domain)\n",
      "\n",
      "hd = HorizontalDiffusion (domain)\n",
      "hd.set_halo ( (2,2,2,2) )\n",
      "hd.run (out_data=target,\n",
      "        in_wgt=wgt,\n",
      "        in_data=source)"
     ],
     "language": "python",
     "metadata": {
      "slideshow": {
       "slide_type": "-"
      }
     },
     "outputs": [],
     "prompt_number": 9
    },
    {
     "cell_type": "code",
     "collapsed": false,
     "input": [
      "hd.plot_3d (source[:,:,0])\n",
      "hd.plot_3d (target[2:-2,2:-2,0])"
     ],
     "language": "python",
     "metadata": {
      "slideshow": {
       "slide_type": "-"
      }
     },
     "outputs": []
    },
    {
     "cell_type": "markdown",
     "metadata": {
      "slideshow": {
       "slide_type": "slide"
      }
     },
     "source": [
      "## Matplotlib integration: creating animations"
     ]
    },
    {
     "cell_type": "code",
     "collapsed": false,
     "input": [
      "import matplotlib.animation as animation\n",
      "\n",
      "fig = plt.figure ( )\n",
      "ax0 = fig.add_subplot(221)\n",
      "ax1 = fig.add_subplot(222)\n",
      "ax2 = fig.add_subplot(223)\n",
      "ax3 = fig.add_subplot(224)\n",
      "\n",
      "im0  = ax0.spy (in_X[:,:,0])\n",
      "im1  = ax1.spy (in_X[:,:,1])\n",
      "im2  = ax2.spy (in_X[:,:,2])\n",
      "im3  = ax3.spy (in_X[:,:,3])\n",
      "\n",
      "def anim_init ( ):\n",
      "    im0.set_data (in_X[:,:,0])\n",
      "    im1.set_data (in_X[:,:,1])\n",
      "    im2.set_data (in_X[:,:,2])\n",
      "    im3.set_data (in_X[:,:,3])\n",
      "    return [im0,im1,im2,im3]\n",
      "\n",
      "def anim_frame (i):\n",
      "    global out_X, in_X\n",
      "    game_of_life (out_X=out_X, in_X=in_X)\n",
      "    if i%2 == 0:\n",
      "        im0.set_data (in_X[:,:,0])\n",
      "        im1.set_data (in_X[:,:,1])\n",
      "        im2.set_data (in_X[:,:,2])\n",
      "        im3.set_data (in_X[:,:,3])\n",
      "    in_X = out_X\n",
      "    return [im0,im1,im2,im3]\n",
      "\n",
      "anim = animation.FuncAnimation (fig,\n",
      "                                anim_frame,\n",
      "                                init_func=anim_init,\n",
      "                                frames=200,\n",
      "                                interval=100,\n",
      "                                blit=True)"
     ],
     "language": "python",
     "metadata": {},
     "outputs": []
    },
    {
     "cell_type": "code",
     "collapsed": false,
     "input": [
      "from tests.test_sw import LocalSWTest\n",
      "\n",
      "sw = LocalSWTest()\n",
      "sw.setUp()\n",
      "sw.test_animation (50000)"
     ],
     "language": "python",
     "metadata": {
      "slideshow": {
       "slide_type": "-"
      }
     },
     "outputs": [],
     "prompt_number": 1
    },
    {
     "cell_type": "markdown",
     "metadata": {
      "slideshow": {
       "slide_type": "slide"
      }
     },
     "source": [
      "### Performance comparison (pure C++ <--> Python with C++ backend) \n",
      "\n",
      "```\n",
      "* Copy                 11342 FPS <--> 6710 FPS (~39% overhead)\n",
      "* Laplace               4276 FPS <--> 3732 FPS (~13% overhead)\n",
      "* Horizontal diffusion   633 FPS <-->  550 FPS (~13% overhead)\n",
      "* Shallow water         2710 FPS <--> 2525 FPS (~7% overhead)\n",
      "```\n",
      "\n",
      "#### The constant overhead is on the Python side due to library and parameter handling"
     ]
    }
   ],
   "metadata": {}
  }
 ]
}