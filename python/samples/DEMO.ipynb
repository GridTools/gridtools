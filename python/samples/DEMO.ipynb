{
 "cells": [
  {
   "cell_type": "code",
   "execution_count": 1,
   "metadata": {
    "collapsed": false,
    "slideshow": {
     "slide_type": "skip"
    }
   },
   "outputs": [
    {
     "name": "stdout",
     "output_type": "stream",
     "text": [
      "Plotting enabled\n"
     ]
    }
   ],
   "source": [
    "# \n",
    "# notebook setup\n",
    "#\n",
    "try:\n",
    "    %matplotlib qt\n",
    "    import matplotlib.pyplot as plt\n",
    "    #\n",
    "    # Temporary hack needed to make the gridtools package visible from the notebook.\n",
    "    # No longer needed when GT4Py will be installed as a regular Python package (i.e. through  setup.py)\n",
    "    #\n",
    "    import os\n",
    "    os.chdir(os.path.abspath('..'))\n",
    "except Exception:\n",
    "    print (\"### WARNING: plotting not available\")\n",
    "else:\n",
    "    import numpy as np\n",
    "    print (\"Plotting enabled\")"
   ]
  },
  {
   "cell_type": "code",
   "execution_count": null,
   "metadata": {
    "collapsed": false
   },
   "outputs": [],
   "source": []
  },
  {
   "cell_type": "markdown",
   "metadata": {
    "slideshow": {
     "slide_type": "slide"
    }
   },
   "source": [
    "# ::: Gridtools4Py :::\n",
    "## A Python interface for Gridtools"
   ]
  },
  {
   "cell_type": "markdown",
   "metadata": {
    "slideshow": {
     "slide_type": "slide"
    }
   },
   "source": [
    "\n",
    "### A copy stencil implemented in Python\n"
   ]
  },
  {
   "cell_type": "code",
   "execution_count": 2,
   "metadata": {
    "collapsed": false,
    "slideshow": {
     "slide_type": "-"
    }
   },
   "outputs": [],
   "source": [
    "from gridtools.stencil import Stencil, MultiStageStencil\n",
    "\n",
    "\n",
    "class CopyStencil (MultiStageStencil):\n",
    "    \"\"\"\n",
    "    Definition of a simple copy stencil.-\n",
    "    \"\"\"\n",
    "    @Stencil.kernel\n",
    "    def kernel (self, out_data, in_data):\n",
    "        \"\"\"\n",
    "        The entry stage of this stencil.-\n",
    "        \"\"\"\n",
    "        #\n",
    "        # iterate over the interior data points\n",
    "        #\n",
    "        for p in self.get_interior_points (out_data):\n",
    "            out_data[p] = in_data[p]\n"
   ]
  },
  {
   "cell_type": "markdown",
   "metadata": {
    "slideshow": {
     "slide_type": "slide"
    }
   },
   "source": [
    "### Use NumPy arrays as data fields"
   ]
  },
  {
   "cell_type": "code",
   "execution_count": 3,
   "metadata": {
    "collapsed": false,
    "slideshow": {
     "slide_type": "-"
    }
   },
   "outputs": [],
   "source": [
    "domain = (64, 64, 32)\n",
    "\n",
    "source = np.random.rand (*domain)   # data field of size 'domain'\n",
    "                                    # filled with random numbers\n",
    "target = np.zeros (domain)          # data field of size 'domain'\n",
    "                                    # filled with zeros"
   ]
  },
  {
   "cell_type": "markdown",
   "metadata": {
    "slideshow": {
     "slide_type": "slide"
    }
   },
   "source": [
    "### Run the stencil in Python mode"
   ]
  },
  {
   "cell_type": "code",
   "execution_count": 4,
   "metadata": {
    "collapsed": false,
    "slideshow": {
     "slide_type": "-"
    }
   },
   "outputs": [
    {
     "name": "stdout",
     "output_type": "stream",
     "text": [
      "1 loop, best of 10: 105 ms per loop\n"
     ]
    }
   ],
   "source": [
    "copy         = CopyStencil ( )      # instance of the stencil defined above\n",
    "copy.backend = \"python\"             # will run in Python only mode\n",
    "\n",
    "%timeit -n1 -p3 -r 10 copy.run (in_data=source, out_data=target) # execute it"
   ]
  },
  {
   "cell_type": "markdown",
   "metadata": {
    "slideshow": {
     "slide_type": "-"
    }
   },
   "source": [
    "### Run the *same* stencil in C++ mode"
   ]
  },
  {
   "cell_type": "code",
   "execution_count": 5,
   "metadata": {
    "collapsed": false,
    "slideshow": {
     "slide_type": "-"
    }
   },
   "outputs": [
    {
     "name": "stdout",
     "output_type": "stream",
     "text": [
      "The slowest run took 39248.67 times longer than the fastest. This could mean that an intermediate result is being cached.\n",
      "1 loop, best of 10: 142 µs per loop\n"
     ]
    }
   ],
   "source": [
    "copy.set_backend(\"c++\")       # will run using Gridtools in C++\n",
    "\n",
    "%timeit -n1 -p3 -r 10 copy.run (in_data=source, out_data=target) # execute it"
   ]
  },
  {
   "cell_type": "markdown",
   "metadata": {
    "slideshow": {
     "slide_type": "slide"
    }
   },
   "source": [
    "### The code has been translated, compiled and dynamically linked into the current session"
   ]
  },
  {
   "cell_type": "code",
   "execution_count": 6,
   "metadata": {
    "collapsed": false,
    "slideshow": {
     "slide_type": "-"
    }
   },
   "outputs": [
    {
     "data": {
      "text/plain": [
       "<CDLL '/tmp/__gridtools_6kgbr7ba/libgridtools4py.0001.so', handle 2680920 at 7f0b95f3d748>"
      ]
     },
     "execution_count": 6,
     "metadata": {},
     "output_type": "execute_result"
    }
   ],
   "source": [
    "Stencil.compiler.lib_handle"
   ]
  },
  {
   "cell_type": "markdown",
   "metadata": {
    "slideshow": {
     "slide_type": "slide"
    }
   },
   "source": [
    "### Example: the Laplace operator"
   ]
  },
  {
   "cell_type": "code",
   "execution_count": 7,
   "metadata": {
    "collapsed": false,
    "slideshow": {
     "slide_type": "-"
    }
   },
   "outputs": [],
   "source": [
    "class Laplace (MultiStageStencil):\n",
    "    def __init__ (self):\n",
    "        super ( ).__init__ ( )\n",
    "\n",
    "    @Stencil.kernel\n",
    "    def kernel (self, out_data, in_data):\n",
    "        \"\"\"\n",
    "        The user must always define a 'kernel' function.-\n",
    "        \"\"\"\n",
    "        for p in self.get_interior_points (out_data):\n",
    "            out_data[p] = -4.0 * in_data[p] - (\n",
    "                          in_data[p + (1,0,0)] + in_data[p + (0,1,0)] + \n",
    "                          in_data[p + (-1,0,0)] + in_data[p + (0,-1,0)])"
   ]
  },
  {
   "cell_type": "markdown",
   "metadata": {
    "slideshow": {
     "slide_type": "slide"
    }
   },
   "source": [
    "### Run it in Python, C++ and CUDA modes"
   ]
  },
  {
   "cell_type": "code",
   "execution_count": 8,
   "metadata": {
    "collapsed": false,
    "slideshow": {
     "slide_type": "-"
    }
   },
   "outputs": [
    {
     "name": "stdout",
     "output_type": "stream",
     "text": [
      "1 loop, best of 5: 994 ms per loop\n",
      "The slowest run took 14341.67 times longer than the fastest. This could mean that an intermediate result is being cached.\n",
      "1 loop, best of 5: 264 µs per loop\n"
     ]
    }
   ],
   "source": [
    "lap = Laplace ( )\n",
    "lap.set_halo        ( (1, 1, 1, 1) )\n",
    "lap.set_k_direction (\"forward\")\n",
    "\n",
    "lap.set_backend ('python')\n",
    "%timeit -n 1 -p 3 -r 5 lap.run (in_data=source, out_data=target)\n",
    "\n",
    "#lap.backend = \"cuda\"\n",
    "#%timeit -n 1 -p 3 -r 5 lap.run (in_data=source, out_data=target)\n",
    "\n",
    "lap.set_backend ('c++')\n",
    "%timeit -n 1 -p 3 -r 5 lap.run (in_data=source, out_data=target)"
   ]
  },
  {
   "cell_type": "markdown",
   "metadata": {
    "slideshow": {
     "slide_type": "slide"
    }
   },
   "source": [
    "### Plotting"
   ]
  },
  {
   "cell_type": "code",
   "execution_count": 9,
   "metadata": {
    "collapsed": false,
    "slideshow": {
     "slide_type": "-"
    }
   },
   "outputs": [],
   "source": [
    "from tests.test_stencils import HorizontalDiffusion\n",
    "\n",
    "#\n",
    "# initialize the input data\n",
    "#\n",
    "for i in range (domain[0]):\n",
    "    for j in range (domain[1]):\n",
    "        for k in range (domain[2]):\n",
    "            source[i,j,k] = i**5 + j\n",
    "wgt    = np.ones (domain)\n",
    "target = np.ones (domain)\n",
    "\n",
    "hd = HorizontalDiffusion (domain)\n",
    "hd.set_halo ( (2,2,2,2) )\n",
    "hd.run (out_data=target,\n",
    "        in_wgt=wgt,\n",
    "        in_data=source)"
   ]
  },
  {
   "cell_type": "code",
   "execution_count": 10,
   "metadata": {
    "collapsed": false,
    "slideshow": {
     "slide_type": "-"
    }
   },
   "outputs": [
    {
     "data": {
      "text/plain": [
       "<mpl_toolkits.mplot3d.art3d.Line3DCollection at 0x7f0bd1471a20>"
      ]
     },
     "execution_count": 10,
     "metadata": {},
     "output_type": "execute_result"
    }
   ],
   "source": [
    "hd.plot_3d (target[2:-2,2:-2,0])\n",
    "hd.plot_3d (source[:,:,0])"
   ]
  },
  {
   "cell_type": "markdown",
   "metadata": {
    "slideshow": {
     "slide_type": "slide"
    }
   },
   "source": [
    "## Stage execution path and data-dependency graph"
   ]
  },
  {
   "cell_type": "code",
   "execution_count": 15,
   "metadata": {
    "collapsed": false
   },
   "outputs": [],
   "source": [
    "hd.plot_stage_execution ( )"
   ]
  },
  {
   "cell_type": "code",
   "execution_count": 17,
   "metadata": {
    "collapsed": false
   },
   "outputs": [],
   "source": [
    "hd.plot_data_dependency (show_legend=True)"
   ]
  },
  {
   "cell_type": "markdown",
   "metadata": {
    "slideshow": {
     "slide_type": "slide"
    }
   },
   "source": [
    "## Animations"
   ]
  },
  {
   "cell_type": "code",
   "execution_count": 18,
   "metadata": {
    "collapsed": false,
    "slideshow": {
     "slide_type": "-"
    }
   },
   "outputs": [],
   "source": [
    "from tests.test_sw import SWTest\n",
    "\n",
    "anim = SWTest ( )\n",
    "anim.setUp ( )\n",
    "anim.test_animation (50000)"
   ]
  },
  {
   "cell_type": "markdown",
   "metadata": {},
   "source": [
    "## : Game of Life :"
   ]
  },
  {
   "cell_type": "code",
   "execution_count": 19,
   "metadata": {
    "collapsed": false
   },
   "outputs": [],
   "source": [
    "class GameOfLife (MultiStageStencil):\n",
    "    def __init__ (self, domain):\n",
    "        super ( ).__init__ ( )\n",
    "        self.counter = np.zeros (domain)\n",
    "    \n",
    "    @Stencil.kernel\n",
    "    def kernel (self, out_X):\n",
    "        for p in self.get_interior_points (out_X):\n",
    "            self.counter[p] = out_X[p + (1,0,0)]  + out_X[p + (1,1,0)]   + \\\n",
    "                              out_X[p + (0,1,0)]  + out_X[p + (-1,1,0)]  + \\\n",
    "                              out_X[p + (-1,0,0)] + out_X[p + (-1,-1,0)] + \\\n",
    "                              out_X[p + (0,-1,0)] + out_X[p + (1,-1,0)]\n",
    "            if out_X[p] == 1.0 and self.counter[p] == 2:\n",
    "                out_X[p] = 0.0\n",
    "            elif self.counter[p] == 3:\n",
    "                out_X[p] = 1.0\n",
    "            else:\n",
    "                out_X[p] = 0.0"
   ]
  },
  {
   "cell_type": "code",
   "execution_count": 21,
   "metadata": {
    "collapsed": false
   },
   "outputs": [
    {
     "ename": "NameError",
     "evalue": "name 'X' is not defined",
     "output_type": "error",
     "traceback": [
      "\u001b[0;31m---------------------------------------------------------------------------\u001b[0m",
      "\u001b[0;31mNameError\u001b[0m                                 Traceback (most recent call last)",
      "\u001b[0;32m<ipython-input-21-ebf3303b702a>\u001b[0m in \u001b[0;36m<module>\u001b[0;34m()\u001b[0m\n\u001b[0;32m----> 1\u001b[0;31m X = np.array (np.random.randint (2, size=X.shape),\n\u001b[0m\u001b[1;32m      2\u001b[0m               dtype=np.float64)\n\u001b[1;32m      3\u001b[0m \u001b[0mgol\u001b[0m \u001b[0;34m=\u001b[0m \u001b[0mGameOfLife\u001b[0m \u001b[0;34m(\u001b[0m\u001b[0mX\u001b[0m\u001b[0;34m.\u001b[0m\u001b[0mshape\u001b[0m\u001b[0;34m)\u001b[0m\u001b[0;34m\u001b[0m\u001b[0m\n\u001b[1;32m      4\u001b[0m \u001b[0mgol\u001b[0m\u001b[0;34m.\u001b[0m\u001b[0mbackend\u001b[0m \u001b[0;34m=\u001b[0m \u001b[0;34m'c++'\u001b[0m\u001b[0;34m\u001b[0m\u001b[0m\n\u001b[1;32m      5\u001b[0m \u001b[0mgol\u001b[0m\u001b[0;34m.\u001b[0m\u001b[0mset_halo\u001b[0m \u001b[0;34m(\u001b[0m \u001b[0;34m(\u001b[0m\u001b[0;36m1\u001b[0m\u001b[0;34m,\u001b[0m\u001b[0;36m1\u001b[0m\u001b[0;34m,\u001b[0m\u001b[0;36m1\u001b[0m\u001b[0;34m,\u001b[0m\u001b[0;36m1\u001b[0m\u001b[0;34m)\u001b[0m \u001b[0;34m)\u001b[0m\u001b[0;34m\u001b[0m\u001b[0m\n",
      "\u001b[0;31mNameError\u001b[0m: name 'X' is not defined"
     ]
    }
   ],
   "source": [
    "X = np.array (np.random.randint (2, size=X.shape),\n",
    "              dtype=np.float64)\n",
    "gol = GameOfLife (X.shape)\n",
    "gol.backend = 'c++'\n",
    "gol.set_halo ( (1,1,1,1) )\n",
    "gol.run      (out_X = X)"
   ]
  },
  {
   "cell_type": "markdown",
   "metadata": {
    "slideshow": {
     "slide_type": "slide"
    }
   },
   "source": [
    "### Create a Matplotlib 2D animation"
   ]
  },
  {
   "cell_type": "code",
   "execution_count": null,
   "metadata": {
    "collapsed": false
   },
   "outputs": [],
   "source": [
    "import matplotlib.animation as animation\n",
    "\n",
    "fig = plt.figure ( )\n",
    "im  = plt.imshow (X[:,:,0])\n",
    "\n",
    "def anim_init ( ):\n",
    "    im.set_data (X[:,:,0])\n",
    "    return [im]\n",
    "\n",
    "def anim_frame (i):\n",
    "    gol.run (out_X = X)\n",
    "    im.set_data (X[:,:,0])\n",
    "    return [im]"
   ]
  },
  {
   "cell_type": "code",
   "execution_count": null,
   "metadata": {
    "collapsed": false
   },
   "outputs": [],
   "source": [
    "anim = animation.FuncAnimation (fig,\n",
    "                                anim_frame,\n",
    "                                init_func=anim_init,\n",
    "                                frames=200,\n",
    "                                interval=1000,\n",
    "                                blit=True)"
   ]
  },
  {
   "cell_type": "markdown",
   "metadata": {
    "slideshow": {
     "slide_type": "slide"
    }
   },
   "source": [
    "### Performance comparison (pure C++ <--> Python with C++ backend) \n",
    "\n",
    "```\n",
    "* Copy                 11342 FPS <--> 6710 FPS (~39% overhead)\n",
    "* Laplace               4276 FPS <--> 3732 FPS (~13% overhead)\n",
    "* Horizontal diffusion   633 FPS <-->  550 FPS (~13% overhead)\n",
    "* Shallow water         2710 FPS <--> 2525 FPS (~7% overhead)\n",
    "```\n",
    "\n",
    "#### The constant overhead is on the Python side due to library and parameter handling"
   ]
  },
  {
   "cell_type": "markdown",
   "metadata": {
    "slideshow": {
     "slide_type": "slide"
    }
   },
   "source": [
    "## : Status update :"
   ]
  },
  {
   "cell_type": "markdown",
   "metadata": {
    "slideshow": {
     "slide_type": "-"
    }
   },
   "source": [
    "### Done as of today\n",
    "\n",
    "* several stencils, including game of life, working on CPU/GPU;\n",
    "* automatic detection of read-only fields based on source analysis;\n",
    "* automatic construction and display of execution and data dependency graphs by means of source analysis;\n",
    "* stencil definition containing \"independent\" stages, which may be potentially executed in parallel;\n",
    "* stage definition as a function, which avoids code replication and enables per-stage user settings;\n",
    "* integrated 3D plotting;\n",
    "* integrated 3D animations using OpenGL;\n",
    "* tutorial IPython Notebook;\n",
    "* integration with CMake and the C++ testing infrastructure (Jenkins);\n",
    "* integration with containers (Docker);\n",
    "* full C++11 support."
   ]
  },
  {
   "cell_type": "markdown",
   "metadata": {
    "slideshow": {
     "slide_type": "slide"
    }
   },
   "source": [
    "### In progress as of today\n",
    "\n",
    "* connect lifetime of objects in Python to C++, e.g., tie finalize( ) with the garbage collector;\n",
    "* implement common boundary conditions constructs;\n",
    "* support for definition of local variables;\n",
    "* support for a different offset-indexing syntax (i,j,k);\n"
   ]
  },
  {
   "cell_type": "code",
   "execution_count": null,
   "metadata": {
    "collapsed": false
   },
   "outputs": [],
   "source": []
  }
 ],
 "metadata": {
  "celltoolbar": "Slideshow",
  "kernelspec": {
   "display_name": "Python 3",
   "language": "python",
   "name": "python3"
  },
  "language_info": {
   "codemirror_mode": {
    "name": "ipython",
    "version": 3
   },
   "file_extension": ".py",
   "mimetype": "text/x-python",
   "name": "python",
   "nbconvert_exporter": "python",
   "pygments_lexer": "ipython3",
   "version": "3.4.3"
  }
 },
 "nbformat": 4,
 "nbformat_minor": 0
}
