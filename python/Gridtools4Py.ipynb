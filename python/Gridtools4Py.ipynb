{
 "metadata": {
  "celltoolbar": "Slideshow",
  "name": "",
  "signature": "sha256:a2601c42009559ad9c96866f8637c927d5bb2f6fe994a58bfa704ae3493e630a"
 },
 "nbformat": 3,
 "nbformat_minor": 0,
 "worksheets": [
  {
   "cells": [
    {
     "cell_type": "markdown",
     "metadata": {
      "slideshow": {
       "slide_type": "slide"
      }
     },
     "source": [
      "# Gridtools4Py\n",
      "## Python for Gridtools"
     ]
    },
    {
     "cell_type": "code",
     "collapsed": false,
     "input": [
      "%pylab inline"
     ],
     "language": "python",
     "metadata": {
      "slideshow": {
       "slide_type": "skip"
      }
     },
     "outputs": [
      {
       "output_type": "stream",
       "stream": "stdout",
       "text": [
        "Populating the interactive namespace from numpy and matplotlib\n"
       ]
      }
     ],
     "prompt_number": 3
    },
    {
     "cell_type": "markdown",
     "metadata": {
      "slideshow": {
       "slide_type": "slide"
      }
     },
     "source": [
      "### About Gridtools ..."
     ]
    },
    {
     "cell_type": "markdown",
     "metadata": {
      "slideshow": {
       "slide_type": "slide"
      }
     },
     "source": [
      "### A copy stencil implemented in Python\n"
     ]
    },
    {
     "cell_type": "code",
     "collapsed": false,
     "input": [
      "from tests.test_stencils import Copy\n",
      "from gridtools import MultiStageStencil\n",
      "\n",
      "\n",
      "class CopyStencil (MultiStageStencil):\n",
      "    \"\"\"\n",
      "    Definition of a simple copy stencil.-\n",
      "    \"\"\"\n",
      "    def kernel (self, out_data, in_data):\n",
      "        \"\"\"\n",
      "        The entry stage of this stencil.-\n",
      "        \"\"\"\n",
      "        #\n",
      "        # iterate over the interior data points\n",
      "        #\n",
      "        for p in self.get_interior_points (out_data,\n",
      "                                            k_direction=\"forward\"):\n",
      "            out_data[p] = in_data[p]\n"
     ],
     "language": "python",
     "metadata": {
      "slideshow": {
       "slide_type": "-"
      }
     },
     "outputs": [],
     "prompt_number": 1
    },
    {
     "cell_type": "markdown",
     "metadata": {
      "slideshow": {
       "slide_type": "slide"
      }
     },
     "source": [
      "### Define the domain size and two data fields"
     ]
    },
    {
     "cell_type": "code",
     "collapsed": false,
     "input": [
      "domain = (64, 64, 64)\n",
      "\n",
      "source = np.random.rand (*domain)   # data field of size 'domain'\n",
      "                                    # filled with random numbers\n",
      "target = np.zeros (domain)          # data field of size 'domain'\n",
      "                                    # filled with zeros\n"
     ],
     "language": "python",
     "metadata": {
      "slideshow": {
       "slide_type": "-"
      }
     },
     "outputs": [],
     "prompt_number": 5
    },
    {
     "cell_type": "markdown",
     "metadata": {
      "slideshow": {
       "slide_type": "slide"
      }
     },
     "source": [
      "### Run the stencil in Python mode (default)"
     ]
    },
    {
     "cell_type": "code",
     "collapsed": false,
     "input": [
      "copy = Copy ( )              # instance of the stencil defined above\n",
      "copy.backend = \"python\"      # will run in Python only mode\n",
      "\n",
      "%timeit -n1 -p3 -r 10 copy.run (in_data=source, out_data=target) # execute it"
     ],
     "language": "python",
     "metadata": {
      "slideshow": {
       "slide_type": "-"
      }
     },
     "outputs": [
      {
       "output_type": "stream",
       "stream": "stdout",
       "text": [
        "1 loops, best of 10: 178 ms per loop\n"
       ]
      }
     ],
     "prompt_number": 6
    },
    {
     "cell_type": "markdown",
     "metadata": {
      "slideshow": {
       "slide_type": "-"
      }
     },
     "source": [
      "### Run the *same* stencil in C++ mode"
     ]
    },
    {
     "cell_type": "code",
     "collapsed": false,
     "input": [
      "copy.backend = \"c++\"        # will run using Gridtools in C++\n",
      "\n",
      "%timeit -n1 -p3 -r 10 copy.run (in_data=source, out_data=target) # execute it"
     ],
     "language": "python",
     "metadata": {
      "slideshow": {
       "slide_type": "-"
      }
     },
     "outputs": [
      {
       "output_type": "stream",
       "stream": "stdout",
       "text": [
        "1 loops, best of 10: 191 \u00b5s per loop\n"
       ]
      }
     ],
     "prompt_number": 7
    },
    {
     "cell_type": "markdown",
     "metadata": {
      "slideshow": {
       "slide_type": "slide"
      }
     },
     "source": [
      "### Inspect the automatically-generated C++ code"
     ]
    },
    {
     "cell_type": "code",
     "collapsed": false,
     "input": [
      "!ls /tmp/__gridtools_hwuf3gqx/"
     ],
     "language": "python",
     "metadata": {
      "slideshow": {
       "slide_type": "-"
      }
     },
     "outputs": [
      {
       "output_type": "stream",
       "stream": "stdout",
       "text": [
        "CopyStencil.cpp  CopyStencil.cpp.o  CopyStencil.h  libcopystencil.so  Makefile\r\n"
       ]
      }
     ],
     "prompt_number": 9
    },
    {
     "cell_type": "code",
     "collapsed": false,
     "input": [
      "!cat /tmp/__gridtools_hwuf3gqx/CopyStencil.h"
     ],
     "language": "python",
     "metadata": {
      "slideshow": {
       "slide_type": "subslide"
      }
     },
     "outputs": [
      {
       "output_type": "stream",
       "stream": "stdout",
       "text": [
        "/**\r\n",
        " * This code was automatically generated by gridtools4py:\r\n",
        " * the Python interface to the Gridtools library\r\n",
        " *\r\n",
        " */\r\n",
        "#pragma once\r\n",
        "\r\n",
        "#include <gridtools.h>\r\n",
        "#include <common/defs.h>\r\n",
        "#include <stencil-composition/backend_host.h>\r\n",
        "\r\n",
        "#include <boost/fusion/include/make_vector.hpp>\r\n",
        "\r\n",
        "\r\n",
        "\r\n",
        "#ifdef BACKEND_BLOCK\r\n",
        "#define BACKEND backend<Host, Block >\r\n",
        "#else\r\n",
        "#define BACKEND backend<Host, Naive >\r\n",
        "#endif\r\n",
        "\r\n",
        "\r\n",
        "\r\n",
        "using gridtools::level;\r\n",
        "using gridtools::arg_type;\r\n",
        "using gridtools::range;\r\n",
        "using gridtools::arg;\r\n",
        "\r\n",
        "using namespace gridtools;\r\n",
        "using namespace enumtype;\r\n",
        "\r\n",
        "\r\n",
        "namespace copystencil\r\n",
        "{\r\n",
        "//\r\n",
        "// definition of the special regions in the vertical (k) direction\r\n",
        "//\r\n",
        "typedef gridtools::interval<level<0,-1>, level<1,-1> > x_interval;\r\n",
        "typedef gridtools::interval<level<0,-2>, level<1,1> > axis;\r\n",
        "\r\n",
        "//\r\n",
        "// functor definition - begin\r\n",
        "//\r\n",
        "\r\n",
        "\r\n",
        "//\r\n",
        "// definition of the operators that compose the multistage stencil:\r\n",
        "// this is extracted from the AST analysis of the loop operations\r\n",
        "// in Python, using the 'kernel' function as a starting point\r\n",
        "//\r\n",
        "struct functor_8542\r\n",
        "{\r\n",
        "    //\r\n",
        "    // the number of arguments of this functor \r\n",
        "    //\r\n",
        "    static const int n_args = 2;\r\n",
        "\r\n",
        "    //\r\n",
        "    // the input and output data fields of this functor\r\n",
        "    // (input fields are always 'const')\r\n",
        "    //\r\n",
        "    typedef arg_type<0> out_data;\r\n",
        "    typedef const arg_type<1> in_data;\r\n",
        "        \r\n",
        "\r\n",
        "    //\r\n",
        "    // the complete list of arguments of this functor\r\n",
        "    //\r\n",
        "    typedef boost::mpl::vector<out_data,in_data> arg_list;\r\n",
        "\r\n",
        "    //\r\n",
        "    // the operation of this functor\r\n",
        "    //\r\n",
        "    template <typename Domain>\r\n",
        "    GT_FUNCTION\r\n",
        "    static void Do(Domain const & dom, x_interval) \r\n",
        "    {\r\n",
        "        dom(out_data( )) = dom(in_data( ));\r\n",
        "\t\t\r\n",
        "    }\r\n",
        "};\r\n",
        "\r\n",
        "\r\n",
        "//\r\n",
        "// the following operator is provided for debugging purposes\r\n",
        "//\r\n",
        "std::ostream& operator<<(std::ostream& s, functor_8542 const) \r\n",
        "{\r\n",
        "    return s << \"functor_8542\";\r\n",
        "}\r\n",
        " \r\n",
        "\r\n",
        "//\r\n",
        "// functor definition - end\r\n",
        "//\r\n",
        "\r\n",
        "\r\n",
        "\r\n",
        "bool test (uint_t d1, uint_t d2, uint_t d3,void *out_data_buff,void *in_data_buff)\r\n",
        "{\r\n",
        "    //\r\n",
        "    // Fortran-like memory layout\r\n",
        "    //\r\n",
        "    //typedef gridtools::layout_map<2,1,0> layout_t;\r\n",
        "    \r\n",
        "    //\r\n",
        "    // C-like memory layout\r\n",
        "    //\r\n",
        "    typedef gridtools::layout_map<0,1,2> layout_t;\r\n",
        "\r\n",
        "    typedef gridtools::BACKEND::storage_type<double, layout_t >::type storage_type;\r\n",
        "    \r\n",
        "    //\r\n",
        "    // input data fields share their buffers with NumPy arrays\r\n",
        "    //  \r\n",
        "    storage_type in_data ((uint_t) 64,(uint_t) 64,(uint_t) 64,\r\n",
        "                          (double *) in_data_buff,\r\n",
        "                          std::string (\"in_data\"));\r\n",
        "    \r\n",
        "    //\r\n",
        "    // output data fields also share their buffers with NumPy arrays\r\n",
        "    //  \r\n",
        "    storage_type out_data ((uint_t) 64,(uint_t) 64,(uint_t) 64,\r\n",
        "                           (double *) out_data_buff,\r\n",
        "                           std::string (\"out_data\"));\r\n",
        "    \r\n",
        "    // \r\n",
        "    // place-holder definition: their order reflect matches the stencil\r\n",
        "    // parameters, especially the non-temporary ones, during the construction\r\n",
        "    // of the domain\r\n",
        "    //\r\n",
        "    typedef arg<0, storage_type> p_out_data;\r\n",
        "    typedef arg<1, storage_type> p_in_data;\r\n",
        "    \r\n",
        "    // An array of placeholders to be passed to the domain\r\n",
        "    // I'm using mpl::vector, but the final API should look slightly simpler\r\n",
        "    typedef boost::mpl::vector<p_out_data, p_in_data> arg_type_list; \r\n",
        "\r\n",
        "    //\r\n",
        "    // construction of the domain.\r\n",
        "    // The domain is the physical domain of the problem, with all the physical\r\n",
        "    // fields that are used, temporary and not.\r\n",
        "    // It must be noted that the only fields to be passed to the constructor \r\n",
        "    // are the non-temporary. The order in which they have to be passed is the\r\n",
        "    // order in which they appear scanning the placeholders in order. \r\n",
        "    // (I don't particularly like this)\r\n",
        "    //\r\n",
        "    gridtools::domain_type<arg_type_list> domain (boost::fusion::make_vector (&out_data, &in_data));\r\n",
        "\r\n",
        "    //\r\n",
        "    // definition of the physical dimensions of the problem.\r\n",
        "    // The constructor takes the horizontal plane dimensions,\r\n",
        "    // while the vertical ones are set according the the axis \r\n",
        "    // property soon after this:\r\n",
        "    //\r\n",
        "    //      gridtools::coordinates<axis> coords(2,d1-2,2,d2-2);\r\n",
        "    //\r\n",
        "    uint_t di[5] = {1, 1, 1, d1-1, d1-1};\r\n",
        "    uint_t dj[5] = {1, 1, 1, d2-1, d2-1};\r\n",
        "\r\n",
        "    gridtools::coordinates<axis> coords(di, dj);\r\n",
        "    coords.value_list[0] = 0;\r\n",
        "    coords.value_list[1] = d3-1;\r\n",
        "\r\n",
        "    //\r\n",
        "    // Here we do a lot of stuff\r\n",
        "    //\r\n",
        "    // 1) we pass to the intermediate representation ::run function the \r\n",
        "    // description of the stencil, which is a multi-stage stencil (mss);\r\n",
        "    // 2) the logical physical domain with the fields to use;\r\n",
        "    // 3) the actual domain dimensions\r\n",
        "    //\r\n",
        "    boost::shared_ptr<gridtools::computation> comp_copystencil =\r\n",
        "      gridtools::make_computation<gridtools::BACKEND, layout_t>\r\n",
        "        (\r\n",
        "            gridtools::make_mss\r\n",
        "            (\r\n",
        "                execute<forward>(),\r\n",
        "                gridtools::make_esf<functor_8542>(p_out_data(), p_in_data())\r\n",
        "                ),\r\n",
        "            domain, coords\r\n",
        "            );\r\n",
        "\r\n",
        "    //\r\n",
        "    // execute the stencil\r\n",
        "    //\r\n",
        "    comp_copystencil->ready();\r\n",
        "    comp_copystencil->steady();\r\n",
        "    comp_copystencil->run();\r\n",
        "\r\n",
        "    //\r\n",
        "    // clean everything up\r\n",
        "    //\r\n",
        "    comp_copystencil->finalize();\r\n",
        "\r\n",
        "    return EXIT_SUCCESS;\r\n",
        "}\r\n",
        "\r\n",
        "} // namespace copystencil\r\n"
       ]
      }
     ],
     "prompt_number": 12
    },
    {
     "cell_type": "markdown",
     "metadata": {
      "slideshow": {
       "slide_type": "slide"
      }
     },
     "source": [
      "### Example: the Laplace operator"
     ]
    },
    {
     "cell_type": "code",
     "collapsed": false,
     "input": [
      "from tests.test_stencils import Laplace\n",
      "from gridtools import MultiStageStencil\n",
      "\n",
      "\n",
      "class LaplaceStencil (MultiStageStencil):\n",
      "    \"\"\"\n",
      "    A Laplace operator.-\n",
      "    \"\"\"\n",
      "    def kernel (self, out_data, in_data):\n",
      "        \"\"\"\n",
      "        Stencil's entry point.-\n",
      "        \"\"\"\n",
      "        #\n",
      "        # iterate over the field's interior points\n",
      "        #\n",
      "        for p in self.get_interior_points (out_data,\n",
      "                                           halo=(-1,1,-1,1),\n",
      "                                           k_direction=\"forward\"):\n",
      "            out_data[p] = 4 * in_data[p] - (\n",
      "                    in_data[p + (1,0,0)] + in_data[p + (0,1,0)] + \n",
      "                    in_data[p + (-1,0,0)] + in_data[p + (0,-1,0)])\n"
     ],
     "language": "python",
     "metadata": {
      "slideshow": {
       "slide_type": "-"
      }
     },
     "outputs": [],
     "prompt_number": 2
    },
    {
     "cell_type": "markdown",
     "metadata": {
      "slideshow": {
       "slide_type": "slide"
      }
     },
     "source": [
      "### Run it in Python mode"
     ]
    },
    {
     "cell_type": "code",
     "collapsed": false,
     "input": [
      "lap = Laplace ( )\n",
      "lap.backend = \"python\"\n",
      "\n",
      "%timeit -n 1 -p 3 -r 10 lap.run (in_data=source, out_data=target)"
     ],
     "language": "python",
     "metadata": {
      "slideshow": {
       "slide_type": "-"
      }
     },
     "outputs": [
      {
       "output_type": "stream",
       "stream": "stdout",
       "text": [
        "1 loops, best of 10: 1.88 s per loop\n"
       ]
      }
     ],
     "prompt_number": 9
    },
    {
     "cell_type": "markdown",
     "metadata": {
      "slideshow": {
       "slide_type": "-"
      }
     },
     "source": [
      "### Run it in C++ mode"
     ]
    },
    {
     "cell_type": "code",
     "collapsed": false,
     "input": [
      "lap.backend = \"c++\"\n",
      "\n",
      "%timeit -n 1 -p 3 -r 10 lap.run (in_data=source, out_data=target)"
     ],
     "language": "python",
     "metadata": {
      "slideshow": {
       "slide_type": "-"
      }
     },
     "outputs": [
      {
       "output_type": "stream",
       "stream": "stdout",
       "text": [
        "1 loops, best of 10: 337 \u00b5s per loop\n"
       ]
      }
     ],
     "prompt_number": 10
    },
    {
     "cell_type": "markdown",
     "metadata": {
      "slideshow": {
       "slide_type": "slide"
      }
     },
     "source": [
      "### Another example: a Laplace of Laplace"
     ]
    },
    {
     "cell_type": "code",
     "collapsed": false,
     "input": [
      "from gridtools import MultiStageStencil\n",
      "\n",
      "\n",
      "class LaplaceOfLaplace (MultiStageStencil):\n",
      "    \"\"\"\n",
      "    A stencil that applies the Laplace operator twice, \n",
      "    as the one used in COSMO.-\n",
      "    \"\"\"\n",
      "    def __init__ (self, domain):\n",
      "        super ( ).__init__ ( )\n",
      "        #\n",
      "        # a temporary data field\n",
      "        #\n",
      "        self.tmp_field = np.zeros (domain)\n",
      "\n",
      "    def kernel (self, out_data, in_data):\n",
      "        \"\"\"\n",
      "        Stencil's entry point.-\n",
      "        \"\"\"\n",
      "        #\n",
      "        # the first stage uses a 2D halo of size 2\n",
      "        #\n",
      "        for p in self.get_interior_points (out_data,\n",
      "                                           halo=(-2,2,-2,2),\n",
      "                                           k_direction=\"forward\"):\n",
      "            self.tmp_field[p] = 4 * in_data[p] - (\n",
      "                                in_data[p + (1,0,0)] + \n",
      "                                in_data[p + (0,1,0)] + \n",
      "                                in_data[p + (-1,0,0)] + \n",
      "                                in_data[p + (0,-1,0)] )\n",
      "        #\n",
      "        # the second stage uses a 2D halo of size 1\n",
      "        #\n",
      "        for p in self.get_interior_points (out_data,\n",
      "                                           halo=(-1,1,-1,1),\n",
      "                                           k_direction=\"forward\"):\n",
      "            out_data[p] = 4 * self.tmp_field[p] - (\n",
      "                          self.tmp_field[p + (1,0,0)] + \n",
      "                          self.tmp_field[p + (0,1,0)] + \n",
      "                          self.tmp_field[p + (-1,0,0)] + \n",
      "                          self.tmp_field[p + (0,-1,0)] )"
     ],
     "language": "python",
     "metadata": {
      "slideshow": {
       "slide_type": "-"
      }
     },
     "outputs": [],
     "prompt_number": 2
    },
    {
     "cell_type": "markdown",
     "metadata": {
      "slideshow": {
       "slide_type": "slide"
      }
     },
     "source": [
      "### Roadmap\n",
      "\n",
      "* change the offset-indexing syntax\n",
      "* integrate the CMake and the C++ build infrastructure\n",
      "* integrate the testing infrastructure on different CSCS systems\n",
      "* deploy IPython Notebooks with cluster support\n",
      "* integrate OpenMP and CUDA capabilities\n",
      "* increase the range of constructs understood by the translator \n",
      "* provide an mechanism to alter the scheduling of a parallel execution, e.g., Halide"
     ]
    },
    {
     "cell_type": "markdown",
     "metadata": {
      "slideshow": {
       "slide_type": "skip"
      }
     },
     "source": [
      "---\n",
      "Please ignore the cell below. It just loads the style file for the notebook."
     ]
    },
    {
     "cell_type": "code",
     "collapsed": false,
     "input": [
      "from IPython.core.display import HTML\n",
      "def css_styling():\n",
      "    styles = open(\"./styles/custom.css\", \"r\").read()\n",
      "    return HTML(styles)\n",
      "css_styling()"
     ],
     "language": "python",
     "metadata": {
      "slideshow": {
       "slide_type": "skip"
      }
     },
     "outputs": [
      {
       "html": [
        "<link href='http://fonts.googleapis.com/css?family=Fenix' rel='stylesheet' type='text/css'>\n",
        "<link href='http://fonts.googleapis.com/css?family=Alegreya+Sans:100,300,400,500,700,800,900,100italic,300italic,400italic,500italic,700italic,800italic,900italic' rel='stylesheet' type='text/css'>\n",
        "<link href='http://fonts.googleapis.com/css?family=Source+Code+Pro:300,400' rel='stylesheet' type='text/css'>\n",
        "<style>\n",
        "    @font-face {\n",
        "        font-family: \"Computer Modern\";\n",
        "        src: url('http://mirrors.ctan.org/fonts/cm-unicode/fonts/otf/cmunss.otf');\n",
        "    }\n",
        "    div.cell{\n",
        "        width:800px;\n",
        "        margin-left:16% !important;\n",
        "        margin-right:auto;\n",
        "    }\n",
        "    h1 {\n",
        "        font-family: 'Alegreya Sans', sans-serif;\n",
        "    }\n",
        "    h2 {\n",
        "        font-family: 'Fenix', serif;\n",
        "    }\n",
        "    h3{\n",
        "\t\tfont-family: 'Fenix', serif;\n",
        "        margin-top:12px;\n",
        "        margin-bottom: 3px;\n",
        "       }\n",
        "\th4{\n",
        "\t\tfont-family: 'Fenix', serif;\n",
        "       }\n",
        "    h5 {\n",
        "        font-family: 'Alegreya Sans', sans-serif;\n",
        "    }\t   \n",
        "    div.text_cell_render{\n",
        "        font-family: 'Alegreya Sans',Computer Modern, \"Helvetica Neue\", Arial, Helvetica, Geneva, sans-serif;\n",
        "        line-height: 135%;\n",
        "        font-size: 120%;\n",
        "        width:600px;\n",
        "        margin-left:auto;\n",
        "        margin-right:auto;\n",
        "    }\n",
        "    .CodeMirror{\n",
        "            font-family: \"Source Code Pro\";\n",
        "\t\t\tfont-size: 90%;\n",
        "    }\n",
        "/*    .prompt{\n",
        "        display: None;\n",
        "    }*/\n",
        "    .text_cell_render h1 {\n",
        "        font-weight: 200;\n",
        "        font-size: 50pt;\n",
        "\t\tline-height: 100%;\n",
        "        color:#CD2305;\n",
        "        margin-bottom: 0.5em;\n",
        "        margin-top: 0.5em;\n",
        "        display: block;\n",
        "    }\t\n",
        "    .text_cell_render h5 {\n",
        "        font-weight: 300;\n",
        "        font-size: 16pt;\n",
        "        color: #CD2305;\n",
        "        font-style: italic;\n",
        "        margin-bottom: .5em;\n",
        "        margin-top: 0.5em;\n",
        "        display: block;\n",
        "    }\n",
        "    \n",
        "    .warning{\n",
        "        color: rgb( 240, 20, 20 )\n",
        "        }  \n",
        "</style>\n",
        "<script>\n",
        "    MathJax.Hub.Config({\n",
        "                        TeX: {\n",
        "                           extensions: [\"AMSmath.js\"]\n",
        "                           },\n",
        "                tex2jax: {\n",
        "                    inlineMath: [ ['$','$'], [\"\\\\(\",\"\\\\)\"] ],\n",
        "                    displayMath: [ ['$$','$$'], [\"\\\\[\",\"\\\\]\"] ]\n",
        "                },\n",
        "                displayAlign: 'center', // Change this to 'center' to center equations.\n",
        "                \"HTML-CSS\": {\n",
        "                    styles: {'.MathJax_Display': {\"margin\": 4}}\n",
        "                }\n",
        "        });\n",
        "</script>\n"
       ],
       "metadata": {},
       "output_type": "pyout",
       "prompt_number": 12,
       "text": [
        "<IPython.core.display.HTML at 0x7f8999025fd0>"
       ]
      }
     ],
     "prompt_number": 12
    }
   ],
   "metadata": {}
  }
 ]
}