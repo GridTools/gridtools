{
 "metadata": {
  "celltoolbar": "Slideshow",
  "name": "",
  "signature": "sha256:45d5fed1d17a21743b7ae727fdf91b8896170a9e3fdfce33a7b567e111a6dd20"
 },
 "nbformat": 3,
 "nbformat_minor": 0,
 "worksheets": [
  {
   "cells": [
    {
     "cell_type": "code",
     "collapsed": false,
     "input": [
      "# \n",
      "# notebook setup\n",
      "#\n",
      "try:\n",
      "    %matplotlib qt\n",
      "    import matplotlib.pyplot as plt\n",
      "except Exception:\n",
      "    print (\"### WARNING: plotting not available\")\n",
      "else:\n",
      "    import numpy as np\n",
      "    print (\"Plotting enabled\")"
     ],
     "language": "python",
     "metadata": {
      "slideshow": {
       "slide_type": "skip"
      }
     },
     "outputs": [
      {
       "output_type": "stream",
       "stream": "stdout",
       "text": [
        "Plotting enabled\n"
       ]
      }
     ],
     "prompt_number": 1
    },
    {
     "cell_type": "markdown",
     "metadata": {
      "slideshow": {
       "slide_type": "slide"
      }
     },
     "source": [
      "# ::: Gridtools4Py :::\n",
      "## A Python interface for Gridtools"
     ]
    },
    {
     "cell_type": "markdown",
     "metadata": {
      "slideshow": {
       "slide_type": "slide"
      }
     },
     "source": [
      "### A copy stencil implemented in Python\n"
     ]
    },
    {
     "cell_type": "code",
     "collapsed": false,
     "input": [
      "from gridtools.stencil import MultiStageStencil, def_kernel\n",
      "\n",
      "\n",
      "class CopyStencil (MultiStageStencil):\n",
      "    \"\"\"\n",
      "    Definition of a simple copy stencil.-\n",
      "    \"\"\"\n",
      "    @def_kernel\n",
      "    def kernel (self, out_data, in_data):\n",
      "        \"\"\"\n",
      "        The entry stage of this stencil.-\n",
      "        \"\"\"\n",
      "        #\n",
      "        # iterate over the interior data points\n",
      "        #\n",
      "        for p in self.get_interior_points (out_data):\n",
      "            out_data[p] = in_data[p]\n"
     ],
     "language": "python",
     "metadata": {
      "slideshow": {
       "slide_type": "-"
      }
     },
     "outputs": [],
     "prompt_number": 2
    },
    {
     "cell_type": "markdown",
     "metadata": {
      "slideshow": {
       "slide_type": "slide"
      }
     },
     "source": [
      "### Use NumPy arrays as data fields"
     ]
    },
    {
     "cell_type": "code",
     "collapsed": false,
     "input": [
      "domain = (64, 64, 32)\n",
      "\n",
      "source = np.random.rand (*domain)   # data field of size 'domain'\n",
      "                                    # filled with random numbers\n",
      "target = np.zeros (domain)          # data field of size 'domain'\n",
      "                                    # filled with zeros"
     ],
     "language": "python",
     "metadata": {
      "slideshow": {
       "slide_type": "-"
      }
     },
     "outputs": [],
     "prompt_number": 3
    },
    {
     "cell_type": "markdown",
     "metadata": {
      "slideshow": {
       "slide_type": "slide"
      }
     },
     "source": [
      "### Run the stencil in Python mode"
     ]
    },
    {
     "cell_type": "code",
     "collapsed": false,
     "input": [
      "copy         = CopyStencil ( )      # instance of the stencil defined above\n",
      "copy.backend = \"python\"             # will run in Python only mode\n",
      "\n",
      "%timeit -n1 -p3 -r 10 copy.run (in_data=source, out_data=target) # execute it"
     ],
     "language": "python",
     "metadata": {
      "slideshow": {
       "slide_type": "-"
      }
     },
     "outputs": [
      {
       "output_type": "stream",
       "stream": "stdout",
       "text": [
        "1 loops, best of 10: 68.2 ms per loop\n"
       ]
      }
     ],
     "prompt_number": 4
    },
    {
     "cell_type": "markdown",
     "metadata": {
      "slideshow": {
       "slide_type": "-"
      }
     },
     "source": [
      "### Run the *same* stencil in C++ mode"
     ]
    },
    {
     "cell_type": "code",
     "collapsed": false,
     "input": [
      "copy.backend = \"c++\"        # will run using Gridtools in C++\n",
      "\n",
      "%timeit -n1 -p3 -r 10 copy.run (in_data=source, out_data=target) # execute it"
     ],
     "language": "python",
     "metadata": {
      "slideshow": {
       "slide_type": "-"
      }
     },
     "outputs": [
      {
       "output_type": "stream",
       "stream": "stdout",
       "text": [
        "1 loops, best of 10: 122 \u00b5s per loop\n"
       ]
      }
     ],
     "prompt_number": 5
    },
    {
     "cell_type": "markdown",
     "metadata": {
      "slideshow": {
       "slide_type": "slide"
      }
     },
     "source": [
      "### The code has been translated, compiled and dynamically linked into the current session"
     ]
    },
    {
     "cell_type": "code",
     "collapsed": false,
     "input": [
      "copy.compiler.lib_handle"
     ],
     "language": "python",
     "metadata": {
      "slideshow": {
       "slide_type": "-"
      }
     },
     "outputs": [
      {
       "metadata": {},
       "output_type": "pyout",
       "prompt_number": 6,
       "text": [
        "<CDLL '/tmp/__gridtools_mup3xxi5/libgridtools4py.0001.so', handle 25263e0 at 7fd2df4fe080>"
       ]
      }
     ],
     "prompt_number": 6
    },
    {
     "cell_type": "markdown",
     "metadata": {
      "slideshow": {
       "slide_type": "slide"
      }
     },
     "source": [
      "### Example: the Laplace operator"
     ]
    },
    {
     "cell_type": "code",
     "collapsed": false,
     "input": [
      "class Laplace (MultiStageStencil):\n",
      "    @def_kernel\n",
      "    def kernel (self, out_data, in_data):\n",
      "        \"\"\"\n",
      "        The user must always define a 'kernel' function.-\n",
      "        \"\"\"\n",
      "        for p in self.get_interior_points (out_data):\n",
      "            out_data[p] = -4.0 * in_data[p] - (\n",
      "                          in_data[p + (1,0,0)] + in_data[p + (0,1,0)] + \n",
      "                          in_data[p + (-1,0,0)] + in_data[p + (0,-1,0)])"
     ],
     "language": "python",
     "metadata": {
      "slideshow": {
       "slide_type": "-"
      }
     },
     "outputs": [],
     "prompt_number": 7
    },
    {
     "cell_type": "markdown",
     "metadata": {
      "slideshow": {
       "slide_type": "slide"
      }
     },
     "source": [
      "### Run it in Python, C++ and CUDA modes"
     ]
    },
    {
     "cell_type": "code",
     "collapsed": false,
     "input": [
      "lap = Laplace ( )\n",
      "lap.set_halo        ( (1, 1, 1, 1) )\n",
      "lap.set_k_direction (\"forward\")\n",
      "\n",
      "lap.backend = \"python\"\n",
      "%timeit -n 1 -p 3 -r 5 lap.run (in_data=source, out_data=target)\n",
      "\n",
      "lap.backend = \"cuda\"\n",
      "%timeit -n 1 -p 3 -r 5 lap.run (in_data=source, out_data=target)\n",
      "\n",
      "lap.backend = \"c++\"\n",
      "%timeit -n 1 -p 3 -r 5 lap.run (in_data=source, out_data=target)"
     ],
     "language": "python",
     "metadata": {
      "slideshow": {
       "slide_type": "-"
      }
     },
     "outputs": [
      {
       "output_type": "stream",
       "stream": "stdout",
       "text": [
        "1 loops, best of 5: 635 ms per loop\n",
        "1 loops, best of 5: 44.7 \u00b5s per loop"
       ]
      },
      {
       "output_type": "stream",
       "stream": "stdout",
       "text": [
        "\n",
        "1 loops, best of 5: 243 \u00b5s per loop"
       ]
      },
      {
       "output_type": "stream",
       "stream": "stdout",
       "text": [
        "\n"
       ]
      }
     ],
     "prompt_number": 8
    },
    {
     "cell_type": "markdown",
     "metadata": {
      "slideshow": {
       "slide_type": "slide"
      }
     },
     "source": [
      "### Stencil combination example: horizontal diffusion"
     ]
    },
    {
     "cell_type": "code",
     "collapsed": false,
     "input": [
      "class FluxI (MultiStageStencil):\n",
      "    @def_kernel\n",
      "    def kernel (self, out_fli, in_lapi):\n",
      "        for p in self.get_interior_points (out_fli):\n",
      "            out_fli[p] = in_lapi[p + (1,0,0)] - in_lapi[p]\n",
      "\n",
      "class FluxJ (MultiStageStencil):\n",
      "    @def_kernel\n",
      "    def kernel (self, out_flj, in_lapj):\n",
      "        for p in self.get_interior_points (out_flj):\n",
      "            out_flj[p] = in_lapj[p + (0,1,0)] - in_lapj[p]\n",
      "\n",
      "class Out (MultiStageStencil):\n",
      "    @def_kernel\n",
      "    def kernel (self, out_hr, in_wgt, in_fli, in_flj):\n",
      "        for p in self.get_interior_points (out_hr):\n",
      "            out_hr[p] = in_wgt[p] * ( in_fli[p + (-1,0,0)] - in_fli[p] +\n",
      "                                      in_flj[p + (0,-1,0)] - in_flj[p] )            "
     ],
     "language": "python",
     "metadata": {
      "slideshow": {
       "slide_type": "-"
      }
     },
     "outputs": [],
     "prompt_number": 9
    },
    {
     "cell_type": "code",
     "collapsed": false,
     "input": [
      "#\n",
      "# combine the four stencils together\n",
      "#\n",
      "lap = Laplace ( )\n",
      "lap.set_halo ( (2,2,2,2) )\n",
      "\n",
      "fli = FluxI ( )\n",
      "fli.set_halo ( (1,1,1,1) )\n",
      "\n",
      "flj = FluxJ ( )\n",
      "flj.set_halo ( (1,1,1,1) )\n",
      "\n",
      "out = Out ( )\n",
      "out.set_halo ( (0,0,0,0) )"
     ],
     "language": "python",
     "metadata": {
      "slideshow": {
       "slide_type": "skip"
      }
     },
     "outputs": [],
     "prompt_number": 10
    },
    {
     "cell_type": "code",
     "collapsed": false,
     "input": [
      "#\n",
      "# given a restriction of unique parameter names,\n",
      "# we may build a combined stencil like this\n",
      "#\n",
      "# - CURRENTLY NOT WORKING -\n",
      "#\n",
      "#hor_dif = out.build (output='out_hr',\n",
      "#                     in_fli=fli.build (output='out_fli',\n",
      "#                                       in_lapi=lap.build (output='out_data')),\n",
      "#                     in_flj=flj.build (output='out_flj',\n",
      "#                                       in_lapj=lap.build (output='out_data')))"
     ],
     "language": "python",
     "metadata": {
      "slideshow": {
       "slide_type": "-"
      }
     },
     "outputs": [],
     "prompt_number": 11
    },
    {
     "cell_type": "markdown",
     "metadata": {
      "slideshow": {
       "slide_type": "slide"
      }
     },
     "source": [
      "### Stencil combination example: execution and data-dependency graphs"
     ]
    },
    {
     "cell_type": "code",
     "collapsed": false,
     "input": [
      "#hor_dif.plot_execution_graph ( )\n",
      "#hor_dif.plot_data_graph ( )"
     ],
     "language": "python",
     "metadata": {
      "slideshow": {
       "slide_type": "-"
      }
     },
     "outputs": [],
     "prompt_number": 12
    },
    {
     "cell_type": "code",
     "collapsed": false,
     "input": [
      "#\n",
      "# - CURRENTLY NOT WORKING -\n",
      "# ``hor_dif`` is now an independent stencil and can run in C++ mode\n",
      "#\n",
      "\n",
      "#hor_dif.backend = \"c++\"\n",
      "#hor_dif.run (out_hr = target,\n",
      "#             in_wgt = wgt,\n",
      "#             in_data= source)"
     ],
     "language": "python",
     "metadata": {
      "slideshow": {
       "slide_type": "-"
      }
     },
     "outputs": [],
     "prompt_number": 13
    },
    {
     "cell_type": "markdown",
     "metadata": {
      "slideshow": {
       "slide_type": "slide"
      }
     },
     "source": [
      "### Plotting"
     ]
    },
    {
     "cell_type": "code",
     "collapsed": false,
     "input": [
      "from tests.test_stencils import HorizontalDiffusion\n",
      "\n",
      "#\n",
      "# initialize the input data\n",
      "#\n",
      "for i in range (domain[0]):\n",
      "    for j in range (domain[1]):\n",
      "        for k in range (domain[2]):\n",
      "            source[i,j,k] = i**5 + j\n",
      "wgt    = np.ones (domain)\n",
      "target = np.ones (domain)\n",
      "\n",
      "hd = HorizontalDiffusion (domain)\n",
      "hd.set_halo ( (2,2,2,2) )\n",
      "hd.run (out_data=target,\n",
      "        in_wgt=wgt,\n",
      "        in_data=source)"
     ],
     "language": "python",
     "metadata": {
      "slideshow": {
       "slide_type": "-"
      }
     },
     "outputs": [],
     "prompt_number": 14
    },
    {
     "cell_type": "code",
     "collapsed": false,
     "input": [
      "hd.plot_3d (source[:,:,0])\n",
      "hd.plot_3d (target[2:-2,2:-2,0])"
     ],
     "language": "python",
     "metadata": {
      "slideshow": {
       "slide_type": "-"
      }
     },
     "outputs": [
      {
       "metadata": {},
       "output_type": "pyout",
       "prompt_number": 15,
       "text": [
        "<mpl_toolkits.mplot3d.art3d.Line3DCollection at 0x7fd2df4d2e48>"
       ]
      }
     ],
     "prompt_number": 15
    },
    {
     "cell_type": "markdown",
     "metadata": {
      "slideshow": {
       "slide_type": "slide"
      }
     },
     "source": [
      "### Stencil stages as function - independent stages"
     ]
    },
    {
     "cell_type": "code",
     "collapsed": false,
     "input": [
      "class ShallowWater (MultiStageStencil):\n",
      "    def __init__ (self, domain):\n",
      "        super ( ).__init__ ( )\n",
      "        #\n",
      "        # constants to callibrate the system\n",
      "        #\n",
      "        self.bl     = 0.2\n",
      "        self.growth = 1.2\n",
      "        self.dt     = 0.05\n",
      "\n",
      "        #\n",
      "        # temporary data fields\n",
      "        #\n",
      "        self.Hd = np.zeros (domain)\n",
      "        self.Ud = np.zeros (domain)\n",
      "        self.Vd = np.zeros (domain)\n",
      "        self.Hx = np.zeros (domain)\n",
      "        self.Ux = np.zeros (domain)\n",
      "        self.Vx = np.zeros (domain)\n",
      "        self.Hy = np.zeros (domain)\n",
      "        self.Uy = np.zeros (domain)\n",
      "        self.Vy = np.zeros (domain)\n",
      "\n",
      "        self.L  = np.zeros (domain)\n",
      "        self.R  = np.zeros (domain)\n",
      "        self.T  = np.zeros (domain)\n",
      "        self.B  = np.zeros (domain)\n",
      "\n",
      "        self.Dh = np.zeros (domain)\n",
      "        self.Du = np.zeros (domain)\n",
      "        self.Dv = np.zeros (domain)\n",
      "        \n",
      "        \n",
      "    def stage_momentum (self, out_M, out_Md, out_Mx, out_My):\n",
      "        for p in self.get_interior_points (out_M):\n",
      "            self.L[p] = out_M[p + (-1,0,0)]\n",
      "            self.R[p] = out_M[p + (1,0,0)]\n",
      "            self.T[p] = out_M[p + (0,1,0)]\n",
      "            self.B[p] = out_M[p + (0,-1,0)]\n",
      "\n",
      "            out_Mx[p] = self.R[p] - self.L[p]\n",
      "            out_My[p] = self.T[p] - self.B[p]\n",
      "\n",
      "            out_Md[p] = out_M[p] * (1.0 - self.bl) + self.bl * (0.25 * (self.L[p] + \n",
      "                                                                        self.R[p] +\n",
      "                                                                        self.T[p] +\n",
      "                                                                        self.B[p]))\n",
      "\n",
      "    def stage_dynamics (self, out_H, in_Hd, in_Hx, in_Hy,\n",
      "                              out_U, in_Ud, in_Ux, in_Uy,\n",
      "                              out_V, in_Vd, in_Vx, in_Vy):\n",
      "        for p in self.get_interior_points (out_H):\n",
      "            self.Dh[p] = -in_Ud[p] * in_Hx[p] -in_Vd[p] * in_Hy[p] - in_Hd[p] * (in_Ux[p] + in_Vy[p])\n",
      "            self.Du[p] = -in_Ud[p] * in_Ux[p] -in_Vd[p] * in_Uy[p] - self.growth * in_Hx[p]\n",
      "            self.Dv[p] = -in_Ud[p] * in_Vx[p] -in_Vd[p] * in_Vy[p] - self.growth * in_Hy[p]\n",
      "            #\n",
      "            # take first-order Euler step\n",
      "            #\n",
      "            out_H[p] = in_Hd[p] + self.dt * self.Dh[p];\n",
      "            out_U[p] = in_Ud[p] + self.dt * self.Du[p];\n",
      "            out_V[p] = in_Vd[p] + self.dt * self.Dv[p];\n",
      "\n",
      "\n",
      "    @def_kernel\n",
      "    def kernel (self, out_H, out_U, out_V):\n",
      "        #\n",
      "        # momentum calculation for each field\n",
      "        #\n",
      "        self.stage_momentum (out_M  = out_U,\n",
      "                             out_Md = self.Ud,\n",
      "                             out_Mx = self.Ux,\n",
      "                             out_My = self.Uy)\n",
      "        self.stage_momentum (out_M  = out_V,\n",
      "                             out_Md = self.Vd,\n",
      "                             out_Mx = self.Vx,\n",
      "                             out_My = self.Vy)\n",
      "        self.stage_momentum (out_M  = out_H,\n",
      "                             out_Md = self.Hd,\n",
      "                             out_Mx = self.Hx,\n",
      "                             out_My = self.Hy)\n",
      "        #\n",
      "        # dynamics and momentum combined\n",
      "        #\n",
      "        for p in self.get_interior_points (out_H):\n",
      "            self.Dh[p] = -self.Ud[p] * self.Hx[p] -self.Vd[p] * self.Hy[p] - self.Hd[p]  * (self.Ux[p] + self.Vy[p])\n",
      "            self.Du[p] = -self.Ud[p] * self.Ux[p] -self.Vd[p] * self.Uy[p] - self.growth * self.Hx[p]\n",
      "            self.Dv[p] = -self.Ud[p] * self.Vx[p] -self.Vd[p] * self.Vy[p] - self.growth * self.Hy[p]\n",
      "            #\n",
      "            # take first-order Euler step\n",
      "            #\n",
      "            out_H[p] = self.Hd[p] + self.dt * self.Dh[p]\n",
      "            out_U[p] = self.Ud[p] + self.dt * self.Du[p]\n",
      "            out_V[p] = self.Vd[p] + self.dt * self.Dv[p]"
     ],
     "language": "python",
     "metadata": {
      "slideshow": {
       "slide_type": "-"
      }
     },
     "outputs": [
      {
       "output_type": "stream",
       "stream": "stderr",
       "text": [
        "/home/docker/venv/lib/python3.4/site-packages/matplotlib/collections.py:590: FutureWarning: elementwise comparison failed; returning scalar instead, but in the future will perform elementwise comparison\n",
        "  if self._edgecolors == str('face'):\n"
       ]
      }
     ],
     "prompt_number": 16
    },
    {
     "cell_type": "markdown",
     "metadata": {
      "slideshow": {
       "slide_type": "slide"
      }
     },
     "source": [
      "### Stage execution path and data-dependency graph"
     ]
    },
    {
     "cell_type": "code",
     "collapsed": false,
     "input": [
      "sw = ShallowWater (domain)\n",
      "sw.set_halo ( (1,1,1,1) )\n",
      "sw.backend = 'c++'\n",
      "sw.run (out_H = target,\n",
      "        out_U = source,\n",
      "        out_V = wgt)"
     ],
     "language": "python",
     "metadata": {},
     "outputs": [],
     "prompt_number": 17
    },
    {
     "cell_type": "code",
     "collapsed": false,
     "input": [
      "sw.plot_data_dependency (sw.scope.stage_execution)\n",
      "for stg in sw.scope.stage_execution:\n",
      "    print (stg.name)"
     ],
     "language": "python",
     "metadata": {},
     "outputs": [
      {
       "output_type": "stream",
       "stream": "stdout",
       "text": [
        "shallowwater_007_stage_momentum_000\n",
        "shallowwater_007_stage_003\n",
        "shallowwater_007_stage_momentum_002\n",
        "shallowwater_007_stage_momentum_001\n"
       ]
      }
     ],
     "prompt_number": 18
    },
    {
     "cell_type": "code",
     "collapsed": false,
     "input": [
      "sw.plot_data_dependency ( )"
     ],
     "language": "python",
     "metadata": {},
     "outputs": [],
     "prompt_number": 20
    },
    {
     "cell_type": "markdown",
     "metadata": {
      "slideshow": {
       "slide_type": "slide"
      }
     },
     "source": [
      "### Animations"
     ]
    },
    {
     "cell_type": "code",
     "collapsed": false,
     "input": [
      "from tests.test_sw import SWTest\n",
      "\n",
      "anim = SWTest ( )\n",
      "anim.setUp ( )\n",
      "anim.test_animation (50000)"
     ],
     "language": "python",
     "metadata": {
      "slideshow": {
       "slide_type": "-"
      }
     },
     "outputs": [],
     "prompt_number": 21
    },
    {
     "cell_type": "markdown",
     "metadata": {},
     "source": [
      "## : Game of Life :"
     ]
    },
    {
     "cell_type": "code",
     "collapsed": false,
     "input": [
      "class GameOfLife (MultiStageStencil):\n",
      "    def __init__ (self, domain):\n",
      "        super ( ).__init__ ( )\n",
      "        self.counter = np.zeros (domain)\n",
      "        \n",
      "    @def_kernel\n",
      "    def kernel (self, out_X):\n",
      "        for p in self.get_interior_points (out_X):\n",
      "            self.counter[p] = out_X[p + (1,0,0)]  + out_X[p + (1,1,0)]   + \\\n",
      "                              out_X[p + (0,1,0)]  + out_X[p + (-1,1,0)]  + \\\n",
      "                              out_X[p + (-1,0,0)] + out_X[p + (-1,-1,0)] + \\\n",
      "                              out_X[p + (0,-1,0)] + out_X[p + (1,-1,0)]\n",
      "            if out_X[p] == 1.0 and self.counter[p] == 2:\n",
      "                out_X[p] = 0.0\n",
      "            elif self.counter[p] == 3:\n",
      "                out_X[p] = 1.0\n",
      "            else:\n",
      "                out_X[p] = 0.0"
     ],
     "language": "python",
     "metadata": {},
     "outputs": [],
     "prompt_number": 22
    },
    {
     "cell_type": "code",
     "collapsed": false,
     "input": [
      "X = [ [0,0,0,0,0,0,0,0,0,0,0,0,0,0,0,0,0,0,0,0,0,0,0,0,0,0,0,0,0,0,0,0,0,0,0,0,0,0,0,0,0,0],\n",
      "      [0,0,0,0,0,0,0,0,0,0,0,0,0,0,0,0,0,0,0,0,0,0,0,0,0,0,0,0,0,0,0,0,0,0,0,0,0,0,0,0,0,0],\n",
      "      [0,0,1,1,1,0,0,0,1,1,1,0,0,0,0,0,0,0,0,0,0,0,0,0,0,0,0,0,0,0,0,0,0,0,0,0,0,0,0,0,0,0],     \n",
      "      [0,0,1,0,1,0,0,0,1,0,1,0,0,0,0,0,0,0,0,0,0,0,0,0,0,0,0,0,0,0,0,0,0,0,0,0,0,0,0,0,0,0],     \n",
      "      [0,0,1,1,1,0,0,0,1,1,1,0,0,0,0,0,0,0,0,0,0,0,0,0,0,0,0,0,0,0,0,0,0,0,0,0,0,0,0,0,0,0],\n",
      "      [0,0,0,0,0,0,0,0,0,0,0,0,0,0,0,0,0,0,0,0,0,0,0,0,0,0,0,0,0,0,0,0,0,0,0,0,0,0,0,0,0,0],     \n",
      "      [0,0,0,0,0,0,0,0,0,0,0,0,0,1,0,0,0,0,0,0,0,0,0,0,0,0,0,0,1,0,0,0,0,0,0,0,0,0,0,0,0,0],\n",
      "      [0,0,0,0,0,0,0,0,0,0,0,0,1,0,1,0,0,0,0,0,0,0,1,0,0,0,0,1,0,1,0,0,0,0,0,0,0,0,0,0,0,0],\n",
      "      [0,0,0,0,0,0,0,0,0,0,0,0,0,1,0,0,0,0,0,0,1,1,0,1,1,0,0,0,1,0,0,0,0,0,0,0,0,0,0,0,0,0],\n",
      "      [0,0,0,0,0,0,0,0,0,0,0,0,0,0,0,0,0,0,0,0,0,0,1,0,0,0,0,0,0,0,0,0,0,0,0,0,0,0,0,0,0,0],\n",
      "      [0,0,1,1,0,0,0,0,0,0,1,1,0,0,0,0,0,0,0,0,0,0,0,0,0,0,0,0,0,0,1,1,0,0,0,0,0,0,1,1,0,0],\n",
      "      [1,0,0,0,0,1,0,0,1,0,0,0,0,1,0,0,0,0,0,0,0,0,0,0,0,0,0,0,1,0,0,0,0,1,0,0,1,0,0,0,0,1],\n",
      "      [1,0,0,0,0,1,0,0,1,0,0,0,0,1,0,0,0,0,0,0,0,0,0,0,0,0,0,0,1,0,0,0,0,1,0,0,1,0,0,0,0,1],\n",
      "      [1,0,0,0,0,1,0,0,1,0,0,0,0,1,0,0,0,0,0,0,0,0,1,0,0,0,0,0,1,0,0,0,0,1,0,0,1,0,0,0,0,1],\n",
      "      [0,0,1,1,0,0,0,0,0,0,1,1,0,0,0,0,0,0,0,0,1,1,0,1,1,0,0,0,0,0,1,1,0,0,0,0,0,0,1,1,0,0],\n",
      "      [0,0,0,0,0,0,0,0,0,0,0,0,0,0,0,0,0,0,0,0,0,0,1,0,0,0,0,0,0,0,0,0,0,0,0,0,0,0,0,0,0,0],\n",
      "      [0,0,0,0,0,0,0,0,0,0,0,0,0,0,0,0,0,0,0,0,0,0,0,0,0,0,0,0,0,0,0,0,0,0,0,0,0,0,0,0,0,0],\n",
      "      [0,0,0,0,0,0,0,0,0,0,0,0,0,0,0,0,0,0,0,0,0,0,0,0,0,0,0,0,0,0,0,0,0,0,0,0,0,0,0,0,0,0],\n",
      "      [0,0,1,1,0,0,0,0,0,0,1,1,0,0,0,0,0,0,0,0,0,0,0,0,0,0,0,0,0,0,1,1,0,0,0,0,0,0,1,1,0,0],\n",
      "      [1,0,0,0,0,1,0,0,1,0,0,0,0,1,0,0,0,0,0,0,0,0,1,0,0,0,0,0,1,0,0,0,0,1,0,0,1,0,0,0,0,1],\n",
      "      [1,0,0,0,0,1,0,0,1,0,0,0,0,1,0,0,0,0,0,0,1,1,0,1,1,0,0,0,1,0,0,0,0,1,0,0,1,0,0,0,0,1],\n",
      "      [1,0,0,0,0,1,0,0,1,0,0,0,0,1,0,0,0,0,0,0,0,0,1,0,0,0,0,0,1,0,0,0,0,1,0,0,1,0,0,0,0,1],\n",
      "      [0,0,1,1,0,0,0,0,0,0,1,1,0,0,0,0,0,0,0,0,0,0,0,0,0,0,0,0,0,0,1,1,0,0,0,0,0,0,1,1,0,0],\n",
      "      [0,0,0,0,0,0,0,0,0,0,0,0,0,0,0,0,0,0,0,0,0,0,0,0,0,0,0,0,0,0,0,0,0,0,0,0,0,0,0,0,0,0],\n",
      "      [0,0,0,0,0,0,0,0,0,0,0,0,0,0,0,0,0,0,0,0,0,0,0,0,0,0,0,0,0,0,0,0,0,0,0,0,0,0,0,0,0,0],\n",
      "      [0,0,0,0,0,0,0,0,0,0,0,0,0,0,0,0,0,0,0,0,0,0,1,0,0,0,0,0,0,0,0,0,0,0,0,0,0,0,0,0,0,0],\n",
      "      [0,0,1,1,0,0,0,0,0,0,1,1,0,0,0,0,0,0,0,0,1,1,0,1,1,0,0,0,0,0,1,1,0,0,0,0,0,0,1,1,0,0],\n",
      "      [1,0,0,0,0,1,0,0,1,0,0,0,0,1,0,0,0,0,0,0,0,0,1,0,0,0,0,0,1,0,0,0,0,1,0,0,1,0,0,0,0,1],\n",
      "      [1,0,0,0,0,1,0,0,1,0,0,0,0,1,0,0,0,0,0,0,0,0,0,0,0,0,0,0,1,0,0,0,0,1,0,0,1,0,0,0,0,1],\n",
      "      [1,0,0,0,0,1,0,0,1,0,0,0,0,1,0,0,0,0,0,0,0,0,0,0,0,0,0,0,1,0,0,0,0,1,0,0,1,0,0,0,0,1],\n",
      "      [0,0,1,1,0,0,0,0,0,0,1,1,0,0,0,0,0,0,0,0,0,0,0,0,0,0,0,0,0,0,1,1,0,0,0,0,0,0,1,1,0,0],\n",
      "      [0,0,0,0,0,0,0,0,0,0,0,0,0,0,0,0,0,0,0,0,0,0,1,0,0,0,0,0,0,0,0,0,0,0,0,0,0,0,0,0,0,0],\n",
      "      [0,0,0,0,0,0,0,0,0,0,0,0,0,1,0,0,0,0,0,0,1,1,0,1,1,0,0,0,1,0,0,0,0,0,0,0,0,0,0,0,0,0],\n",
      "      [0,0,0,0,0,0,0,0,0,0,0,0,1,0,1,0,0,0,0,0,0,0,1,0,0,0,0,1,0,1,0,0,0,0,0,0,0,0,0,0,0,0],\n",
      "      [0,0,0,0,0,0,0,0,0,0,0,0,0,1,0,0,0,0,0,0,0,0,0,0,0,0,0,0,1,0,0,0,0,0,0,0,0,0,0,0,0,0],\n",
      "      [0,0,0,0,0,0,0,0,0,0,0,0,0,0,0,0,0,0,0,0,0,0,0,0,0,0,0,0,0,0,0,0,0,0,0,0,0,0,0,0,0,0],\n",
      "      [0,0,0,0,0,0,0,0,0,0,0,0,0,0,0,0,0,0,0,0,0,0,0,0,0,0,0,0,0,0,0,0,0,0,0,0,0,0,0,0,0,0],\n",
      "      [0,0,0,0,0,0,0,0,0,0,0,0,0,0,0,0,0,0,0,0,0,0,0,0,0,0,0,0,0,0,0,0,0,0,0,0,0,0,0,0,0,0],\n",
      "      [0,0,0,0,0,0,0,0,0,0,0,0,0,0,0,0,0,0,0,0,0,0,0,0,0,0,0,0,0,0,0,0,0,0,0,0,0,0,0,0,0,0],     \n",
      "      [0,0,0,0,0,0,0,0,0,0,0,0,0,0,0,0,0,0,0,0,0,0,0,0,0,0,0,0,0,0,0,0,0,0,0,0,0,0,0,0,0,0],     \n",
      "      [0,0,0,0,0,0,0,0,0,0,0,0,0,0,0,0,0,0,0,0,0,0,0,0,0,0,0,0,0,0,0,0,0,0,0,0,0,0,0,0,0,0],\n",
      "      [0,0,0,0,0,0,0,0,0,0,0,0,0,0,0,0,0,0,0,0,0,0,0,0,0,0,0,0,0,0,0,0,0,0,0,0,0,0,0,0,0,0] ]\n",
      "\n",
      "X = np.array (X).reshape (42, 42, 1)"
     ],
     "language": "python",
     "metadata": {},
     "outputs": [],
     "prompt_number": 23
    },
    {
     "cell_type": "code",
     "collapsed": false,
     "input": [
      "X = np.array (np.random.randint (2,\n",
      "                                 size=X.shape),\n",
      "              dtype=np.float64)\n",
      "gol = GameOfLife (X.shape)\n",
      "gol.backend = 'c++'\n",
      "gol.set_halo ( (1,1,1,1) )"
     ],
     "language": "python",
     "metadata": {},
     "outputs": [],
     "prompt_number": 24
    },
    {
     "cell_type": "markdown",
     "metadata": {
      "slideshow": {
       "slide_type": "slide"
      }
     },
     "source": [
      "### Create a Matplotlib 2D animation"
     ]
    },
    {
     "cell_type": "code",
     "collapsed": false,
     "input": [
      "import matplotlib.animation as animation\n",
      "\n",
      "fig = plt.figure ( )\n",
      "im  = plt.imshow (X[:,:,0])\n",
      "\n",
      "def anim_init ( ):\n",
      "    im.set_data (X[:,:,0])\n",
      "    return [im]\n",
      "\n",
      "def anim_frame (i):\n",
      "    gol.run (out_X = X)\n",
      "    im.set_data (X[:,:,0])\n",
      "    return [im]"
     ],
     "language": "python",
     "metadata": {},
     "outputs": [
      {
       "output_type": "stream",
       "stream": "stderr",
       "text": [
        "ERROR:root:Error while compiling 'Sw_009'\n"
       ]
      },
      {
       "output_type": "stream",
       "stream": "stderr",
       "text": [
        "ERROR:root:Error while compiling 'Sw_009'\n"
       ]
      },
      {
       "output_type": "stream",
       "stream": "stderr",
       "text": [
        "ERROR:root:Error while compiling 'Sw_009'\n"
       ]
      },
      {
       "output_type": "stream",
       "stream": "stderr",
       "text": [
        "ERROR:root:Error while compiling 'Sw_009'\n"
       ]
      }
     ],
     "prompt_number": 25
    },
    {
     "cell_type": "code",
     "collapsed": false,
     "input": [
      "anim = animation.FuncAnimation (fig,\n",
      "                                anim_frame,\n",
      "                                init_func=anim_init,\n",
      "                                frames=200,\n",
      "                                interval=100,\n",
      "                                blit=True)"
     ],
     "language": "python",
     "metadata": {},
     "outputs": [],
     "prompt_number": 26
    },
    {
     "cell_type": "code",
     "collapsed": false,
     "input": [
      "del anim"
     ],
     "language": "python",
     "metadata": {},
     "outputs": [
      {
       "output_type": "stream",
       "stream": "stderr",
       "text": [
        "ERROR:root:Error while compiling 'Sw_009'\n"
       ]
      }
     ],
     "prompt_number": 27
    },
    {
     "cell_type": "markdown",
     "metadata": {
      "slideshow": {
       "slide_type": "slide"
      }
     },
     "source": [
      "### Performance comparison (pure C++ <--> Python with C++ backend) \n",
      "\n",
      "```\n",
      "* Copy                 11342 FPS <--> 6710 FPS (~39% overhead)\n",
      "* Laplace               4276 FPS <--> 3732 FPS (~13% overhead)\n",
      "* Horizontal diffusion   633 FPS <-->  550 FPS (~13% overhead)\n",
      "* Shallow water         2710 FPS <--> 2525 FPS (~7% overhead)\n",
      "```\n",
      "\n",
      "#### The constant overhead is on the Python side due to library and parameter handling"
     ]
    },
    {
     "cell_type": "markdown",
     "metadata": {
      "slideshow": {
       "slide_type": "slide"
      }
     },
     "source": [
      "## : Status update :"
     ]
    },
    {
     "cell_type": "markdown",
     "metadata": {
      "slideshow": {
       "slide_type": "-"
      }
     },
     "source": [
      "### Done as of 18. Aug 2015\n",
      "\n",
      "* copy, laplace, double laplace, horizontal diffusion, shallow water stencils and game of life on CPU/GPU;\n",
      "* automatic detection of read-only fields based on source analysis;\n",
      "* automatic construction and display of execution and data dependency graphs by means of source analysis;\n",
      "* stencil definition containing \"independent\" stages, which may be potentially executed in parallel;\n",
      "* stage definition as a function, which avoids code replication and enables per-stage user settings;\n",
      "* integrated 3d plotting capabilities;\n",
      "* integrated 3d animations using an OpenGL backend;\n",
      "* tutorial IPython Notebook;\n",
      "* integration with CMake and the C++ testing infrastructure (Jenkins);\n",
      "* integrate the testing infrastructure on CSCS systems (Greina CUDA 7.0);\n",
      "* solved the problem of hitting the upper limit on concurrent DLLs open;\n",
      "* increased the range of constructs understood by the translator, e.g., if.-"
     ]
    },
    {
     "cell_type": "markdown",
     "metadata": {
      "slideshow": {
       "slide_type": "slide"
      }
     },
     "source": [
      "### In progress as of 18. Aug 2015\n",
      "\n",
      "* integration with Docker;\n",
      "* definition of a stencil program as a combination of existing stencils: this approach is similar to the one presented in MODESTO (by Tobias Gysi); horizontal diffusion using this approach is working ok;\n",
      "* integrate the computation/visualization infrastructure on CSCS systems (Daint with VNC and CUDA 6.5)."
     ]
    },
    {
     "cell_type": "markdown",
     "metadata": {
      "slideshow": {
       "slide_type": "-"
      }
     },
     "source": [
      "### To be done as of 18. Aug 2015\n",
      "\n",
      "* connect lifetime of objects in Python to C++, e.g., tie finalize( ) with the garbage collector;\n",
      "* implement boundary conditions;\n",
      "* support for definition of local variables;\n",
      "* support for a different offset-indexing syntax (i,j,k);\n",
      "* full C++11 support."
     ]
    },
    {
     "cell_type": "code",
     "collapsed": false,
     "input": [],
     "language": "python",
     "metadata": {},
     "outputs": []
    }
   ],
   "metadata": {}
  }
 ]
}